{
 "cells": [
  {
   "cell_type": "code",
   "execution_count": 6,
   "id": "516b0507-6671-41ac-b01b-eaa910c429d7",
   "metadata": {},
   "outputs": [
    {
     "name": "stdout",
     "output_type": "stream",
     "text": [
      "Collecting geocoder\n",
      "  Downloading geocoder-1.38.1-py2.py3-none-any.whl (98 kB)\n",
      "Collecting future\n",
      "  Downloading future-0.18.2.tar.gz (829 kB)\n",
      "Requirement already satisfied: click in c:\\users\\katoh\\anaconda3\\envs\\web_app\\lib\\site-packages (from geocoder) (7.1.2)\n",
      "Requirement already satisfied: six in c:\\users\\katoh\\anaconda3\\envs\\web_app\\lib\\site-packages (from geocoder) (1.16.0)\n",
      "Requirement already satisfied: requests in c:\\users\\katoh\\anaconda3\\envs\\web_app\\lib\\site-packages (from geocoder) (2.25.1)\n",
      "Collecting ratelim\n",
      "  Downloading ratelim-0.1.6-py2.py3-none-any.whl (4.0 kB)\n",
      "Requirement already satisfied: decorator in c:\\users\\katoh\\anaconda3\\envs\\web_app\\lib\\site-packages (from ratelim->geocoder) (5.0.9)\n",
      "Requirement already satisfied: urllib3<1.27,>=1.21.1 in c:\\users\\katoh\\anaconda3\\envs\\web_app\\lib\\site-packages (from requests->geocoder) (1.26.5)\n",
      "Requirement already satisfied: chardet<5,>=3.0.2 in c:\\users\\katoh\\anaconda3\\envs\\web_app\\lib\\site-packages (from requests->geocoder) (4.0.0)\n",
      "Requirement already satisfied: certifi>=2017.4.17 in c:\\users\\katoh\\anaconda3\\envs\\web_app\\lib\\site-packages (from requests->geocoder) (2021.5.30)\n",
      "Requirement already satisfied: idna<3,>=2.5 in c:\\users\\katoh\\anaconda3\\envs\\web_app\\lib\\site-packages (from requests->geocoder) (2.10)\n",
      "Building wheels for collected packages: future\n",
      "  Building wheel for future (setup.py): started\n",
      "  Building wheel for future (setup.py): finished with status 'done'\n",
      "  Created wheel for future: filename=future-0.18.2-py3-none-any.whl size=491059 sha256=c7321262333ba0c76eeb7b70782ca93686eafbf63fb1a2d72a8df7e164feb281\n",
      "  Stored in directory: c:\\users\\katoh\\appdata\\local\\pip\\cache\\wheels\\8e\\70\\28\\3d6ccd6e315f65f245da085482a2e1c7d14b90b30f239e2cf4\n",
      "Successfully built future\n",
      "Installing collected packages: ratelim, future, geocoder\n",
      "Successfully installed future-0.18.2 geocoder-1.38.1 ratelim-0.1.6\n",
      "Note: you may need to restart the kernel to use updated packages.\n"
     ]
    }
   ],
   "source": [
    "pip install geocoder"
   ]
  },
  {
   "cell_type": "code",
   "execution_count": 11,
   "id": "b00e66f3-9a62-4b03-b643-38bbc0ce95eb",
   "metadata": {},
   "outputs": [
    {
     "name": "stdout",
     "output_type": "stream",
     "text": [
      "Collecting beautifulsoup4\n",
      "  Downloading beautifulsoup4-4.9.3-py3-none-any.whl (115 kB)\n",
      "Collecting soupsieve>1.2\n",
      "  Downloading soupsieve-2.2.1-py3-none-any.whl (33 kB)\n",
      "Installing collected packages: soupsieve, beautifulsoup4\n",
      "Successfully installed beautifulsoup4-4.9.3 soupsieve-2.2.1\n",
      "Note: you may need to restart the kernel to use updated packages.\n"
     ]
    }
   ],
   "source": [
    "pip install beautifulsoup4"
   ]
  },
  {
   "cell_type": "code",
   "execution_count": 39,
   "id": "bd26b3b8-7ae0-4b75-a216-ce6789f59fa7",
   "metadata": {},
   "outputs": [
    {
     "name": "stdout",
     "output_type": "stream",
     "text": [
      "Collecting folium\n",
      "  Downloading folium-0.12.1-py2.py3-none-any.whl (94 kB)\n",
      "Requirement already satisfied: numpy in c:\\users\\katoh\\anaconda3\\envs\\web_app\\lib\\site-packages (from folium) (1.20.3)\n",
      "Requirement already satisfied: requests in c:\\users\\katoh\\anaconda3\\envs\\web_app\\lib\\site-packages (from folium) (2.25.1)\n",
      "Collecting branca>=0.3.0\n",
      "  Downloading branca-0.4.2-py3-none-any.whl (24 kB)\n",
      "Requirement already satisfied: jinja2>=2.9 in c:\\users\\katoh\\anaconda3\\envs\\web_app\\lib\\site-packages (from folium) (3.0.1)\n",
      "Requirement already satisfied: MarkupSafe>=2.0 in c:\\users\\katoh\\anaconda3\\envs\\web_app\\lib\\site-packages (from jinja2>=2.9->folium) (2.0.1)\n",
      "Requirement already satisfied: urllib3<1.27,>=1.21.1 in c:\\users\\katoh\\anaconda3\\envs\\web_app\\lib\\site-packages (from requests->folium) (1.26.5)\n",
      "Requirement already satisfied: idna<3,>=2.5 in c:\\users\\katoh\\anaconda3\\envs\\web_app\\lib\\site-packages (from requests->folium) (2.10)\n",
      "Requirement already satisfied: chardet<5,>=3.0.2 in c:\\users\\katoh\\anaconda3\\envs\\web_app\\lib\\site-packages (from requests->folium) (4.0.0)\n",
      "Requirement already satisfied: certifi>=2017.4.17 in c:\\users\\katoh\\anaconda3\\envs\\web_app\\lib\\site-packages (from requests->folium) (2021.5.30)\n",
      "Installing collected packages: branca, folium\n",
      "Successfully installed branca-0.4.2 folium-0.12.1\n",
      "Note: you may need to restart the kernel to use updated packages.\n"
     ]
    }
   ],
   "source": [
    "pip install folium"
   ]
  },
  {
   "cell_type": "code",
   "execution_count": null,
   "id": "85017597-f430-4046-b3af-b039a3a8fe56",
   "metadata": {},
   "outputs": [],
   "source": []
  },
  {
   "cell_type": "code",
   "execution_count": 1,
   "id": "812ebfb8-7e59-4d6e-837d-b84b51c66a33",
   "metadata": {},
   "outputs": [],
   "source": [
    "import streamlit as st\n",
    "import pandas as pd\n",
    "import requests\n",
    "import geocoder"
   ]
  },
  {
   "cell_type": "code",
   "execution_count": 2,
   "id": "76671f7c-6947-4673-96fb-77ae087a535b",
   "metadata": {},
   "outputs": [],
   "source": [
    "#@st.cache\n",
    "def get_inf_con(url):\n",
    "    df = pd.read_csv(url, encoding='utf-8')\n",
    "    #df = pd.DataFrame(df)\n",
    "    return df\n",
    "\n",
    "url ='https://www.opendata.metro.tokyo.lg.jp/soumu/130001_tokyo_tenpomap.csv'\n",
    "df_inf_con = get_inf_con(url)"
   ]
  },
  {
   "cell_type": "code",
   "execution_count": null,
   "id": "1e2eeb99-fbf2-422e-a8e1-8bb4289eee28",
   "metadata": {},
   "outputs": [],
   "source": [
    "\n",
    "\"\"\"\n",
    "# \"東京都の協力要請に従う店舗'\n",
    "東京都感染対策協力店\n",
    "\"\"\"\n",
    "\n",
    "st.write(df_inf_con)"
   ]
  },
  {
   "cell_type": "code",
   "execution_count": 8,
   "id": "4248f9ac-e06e-460d-bf44-f4f23cfe8ba3",
   "metadata": {},
   "outputs": [
    {
     "name": "stdout",
     "output_type": "stream",
     "text": [
      "0         東京都杉並区荻窪5-16-5 エルシオン荻窪301\n",
      "1         東京都葛飾区新小岩1-51-1  ますやビル1 F\n",
      "2                    東京都中野区沼袋1-21-7\n",
      "3              東京都葛飾区堀切７－２１－１０  1 F\n",
      "4                   東京都昭島市中神町２－３４－３\n",
      "                    ...            \n",
      "137554             東京都世田谷区上馬4-32-16\n",
      "137555                  東京都福生市福生866\n",
      "137556               東京都足立区小台1-21-1\n",
      "137557              東京都足立区関原2-13-10\n",
      "137558             東京都町田市原町田6-24-17\n",
      "Name: 事業所の所在地, Length: 137559, dtype: object\n"
     ]
    }
   ],
   "source": [
    "shop_address = df_inf_con['事業所の所在地']\n",
    "\n",
    "print(shop_address)"
   ]
  },
  {
   "cell_type": "code",
   "execution_count": 34,
   "id": "66c1fabc-e810-4e86-8192-843f5dd4b205",
   "metadata": {},
   "outputs": [
    {
     "data": {
      "text/plain": [
       "6       東京都世田谷区梅丘1-24-13  1 F\n",
       "7    東京都豊島区南池袋2丁目11-5 三栖ビル1 F\n",
       "8             東京都杉並区荻窪１-19-11\n",
       "9              東京都板橋区板橋1-18-5\n",
       "Name: 事業所の所在地, dtype: object"
      ]
     },
     "execution_count": 34,
     "metadata": {},
     "output_type": "execute_result"
    }
   ],
   "source": [
    "shop_address = shop_address[:50]\n",
    "shop_address"
   ]
  },
  {
   "cell_type": "code",
   "execution_count": 9,
   "id": "bee42f0c-a4e9-45d6-8fff-7a7bfca5fd0a",
   "metadata": {},
   "outputs": [
    {
     "name": "stdout",
     "output_type": "stream",
     "text": [
      "['エステティックサロン・ネイルサロン' 'レストラン、料理店等' '居酒屋' '全業種共通' 'カラオケ'\n",
      " 'キャバレー、スナック等接待行為を伴う飲食店' 'スポーツジム' '図書館' 'ナイトクラブ等' '博物館、美術館' '百貨店等' '学習塾'\n",
      " '劇場、音楽堂等' '旅行代理店' 'イベント' 'ライブハウス' '体育館、水泳場' 'ホテル宴会場' 'ゲームセンター'\n",
      " 'DVD等レンタル店' 'パチンコ' 'マージャン店' '屋内テニス場' 'ネットカフェ、漫画喫茶' '映画館' '自動車教習所'\n",
      " 'ボウリング場' '水族館']\n"
     ]
    }
   ],
   "source": [
    "category = df_inf_con['業種'].unique()\n",
    "print(category)"
   ]
  },
  {
   "cell_type": "code",
   "execution_count": 6,
   "id": "2a32d865-6816-4897-ac9a-11ab6bb2024c",
   "metadata": {
    "collapsed": true,
    "jupyter": {
     "outputs_hidden": true
    },
    "tags": []
   },
   "outputs": [
    {
     "name": "stderr",
     "output_type": "stream",
     "text": [
      "2021-06-19 16:42:27.527 INFO    geocoder.base: Requested https://maps.googleapis.com/maps/api/geocode/json?address=%E6%9D%B1%E4%BA%AC%E9%83%BD%E6%9D%89%E4%B8%A6%E5%8C%BA%E8%8D%BB%E7%AA%AA5-16-5+%E3%82%A8%E3%83%AB%E3%82%B7%E3%82%AA%E3%83%B3%E8%8D%BB%E7%AA%AA301&bounds=&components=&region=&language=\n",
      "2021-06-19 16:42:27.650 INFO    geocoder.base: Requested https://maps.googleapis.com/maps/api/geocode/json?address=%E6%9D%B1%E4%BA%AC%E9%83%BD%E8%91%9B%E9%A3%BE%E5%8C%BA%E6%96%B0%E5%B0%8F%E5%B2%A91-51-1++%E3%81%BE%E3%81%99%E3%82%84%E3%83%93%E3%83%AB1+F&bounds=&components=&region=&language=\n",
      "2021-06-19 16:42:27.817 INFO    geocoder.base: Requested https://maps.googleapis.com/maps/api/geocode/json?address=%E6%9D%B1%E4%BA%AC%E9%83%BD%E4%B8%AD%E9%87%8E%E5%8C%BA%E6%B2%BC%E8%A2%8B1-21-7&bounds=&components=&region=&language=\n",
      "2021-06-19 16:42:27.972 INFO    geocoder.base: Requested https://maps.googleapis.com/maps/api/geocode/json?address=%E6%9D%B1%E4%BA%AC%E9%83%BD%E8%91%9B%E9%A3%BE%E5%8C%BA%E5%A0%80%E5%88%87%EF%BC%97%EF%BC%8D%EF%BC%92%EF%BC%91%EF%BC%8D%EF%BC%91%EF%BC%90++1+F&bounds=&components=&region=&language=\n",
      "2021-06-19 16:42:28.127 INFO    geocoder.base: Requested https://maps.googleapis.com/maps/api/geocode/json?address=%E6%9D%B1%E4%BA%AC%E9%83%BD%E6%98%AD%E5%B3%B6%E5%B8%82%E4%B8%AD%E7%A5%9E%E7%94%BA%EF%BC%92%EF%BC%8D%EF%BC%93%EF%BC%94%EF%BC%8D%EF%BC%93&bounds=&components=&region=&language=\n",
      "2021-06-19 16:42:28.265 INFO    geocoder.base: Requested https://maps.googleapis.com/maps/api/geocode/json?address=%E6%9D%B1%E4%BA%AC%E9%83%BD%E6%B1%9F%E6%9D%B1%E5%8C%BA%E5%A4%A7%E5%B3%B67-8-3&bounds=&components=&region=&language=\n",
      "2021-06-19 16:42:28.412 INFO    geocoder.base: Requested https://maps.googleapis.com/maps/api/geocode/json?address=%E6%9D%B1%E4%BA%AC%E9%83%BD%E4%B8%96%E7%94%B0%E8%B0%B7%E5%8C%BA%E6%A2%85%E4%B8%981-24-13++1+F&bounds=&components=&region=&language=\n",
      "2021-06-19 16:42:28.558 INFO    geocoder.base: Requested https://maps.googleapis.com/maps/api/geocode/json?address=%E6%9D%B1%E4%BA%AC%E9%83%BD%E8%B1%8A%E5%B3%B6%E5%8C%BA%E5%8D%97%E6%B1%A0%E8%A2%8B2%E4%B8%81%E7%9B%AE11-5+%E4%B8%89%E6%A0%96%E3%83%93%E3%83%AB1+F&bounds=&components=&region=&language=\n",
      "2021-06-19 16:42:28.687 INFO    geocoder.base: Requested https://maps.googleapis.com/maps/api/geocode/json?address=%E6%9D%B1%E4%BA%AC%E9%83%BD%E6%9D%89%E4%B8%A6%E5%8C%BA%E8%8D%BB%E7%AA%AA%EF%BC%91-19-11&bounds=&components=&region=&language=\n",
      "2021-06-19 16:42:28.856 INFO    geocoder.base: Requested https://maps.googleapis.com/maps/api/geocode/json?address=%E6%9D%B1%E4%BA%AC%E9%83%BD%E6%9D%BF%E6%A9%8B%E5%8C%BA%E6%9D%BF%E6%A9%8B1-18-5&bounds=&components=&region=&language=\n",
      "2021-06-19 16:42:29.007 INFO    geocoder.base: Requested https://maps.googleapis.com/maps/api/geocode/json?address=%E6%9D%B1%E4%BA%AC%E9%83%BD%E7%94%BA%E7%94%B0%E5%B8%82%E5%8D%97%E3%81%A4%E3%81%8F%E3%81%97%E9%87%8E2-1-1&bounds=&components=&region=&language=\n",
      "2021-06-19 16:42:29.178 INFO    geocoder.base: Requested https://maps.googleapis.com/maps/api/geocode/json?address=%E6%9D%B1%E4%BA%AC%E9%83%BD%E8%B1%8A%E5%B3%B6%E5%8C%BA%E5%8D%97%E5%A4%A7%E5%A1%9A%EF%BC%93%EF%BC%8D%EF%BC%95%EF%BC%90%EF%BC%8D%EF%BC%93+%E3%80%80%EF%BC%B4%E3%83%BB%EF%BC%AA%E5%A4%A7%E5%A1%9A%E3%83%93%E3%83%AB%EF%BC%A2%EF%BC%91+%EF%BC%A6&bounds=&components=&region=&language=\n",
      "2021-06-19 16:42:29.328 INFO    geocoder.base: Requested https://maps.googleapis.com/maps/api/geocode/json?address=%E6%9D%B1%E4%BA%AC%E9%83%BD%E6%B8%AF%E5%8C%BA%E5%85%83%E9%BA%BB%E5%B8%833-2-21+%E3%83%AB%E3%83%9F%E3%82%A8-%E3%83%AB%E5%85%83%E9%BA%BB%E5%B8%83%E5%9C%B0%E4%B8%8B%EF%BC%91+%E9%9A%8E&bounds=&components=&region=&language=\n",
      "2021-06-19 16:42:29.495 INFO    geocoder.base: Requested https://maps.googleapis.com/maps/api/geocode/json?address=%E6%9D%B1%E4%BA%AC%E9%83%BD%E8%91%9B%E9%A3%BE%E5%8C%BA%E4%BA%80%E6%9C%894%EF%BC%8D19%EF%BC%8D5+%E6%B8%A1%E9%82%8A%E3%83%93%E3%83%AB1+F&bounds=&components=&region=&language=\n",
      "2021-06-19 16:42:29.640 INFO    geocoder.base: Requested https://maps.googleapis.com/maps/api/geocode/json?address=%E6%9D%B1%E4%BA%AC%E9%83%BD%E4%B8%AD%E5%A4%AE%E5%8C%BA%E6%97%A5%E6%9C%AC%E6%A9%8B3-2-17&bounds=&components=&region=&language=\n",
      "2021-06-19 16:42:29.795 INFO    geocoder.base: Requested https://maps.googleapis.com/maps/api/geocode/json?address=%E6%9D%B1%E4%BA%AC%E9%83%BD%E6%B8%AF%E5%8C%BA%E5%8D%97%E9%9D%92%E5%B1%B17-13-13+%E3%83%95%E3%82%A9%E3%83%AC%E3%82%B9%E3%83%88%E3%83%93%E3%83%AB1+%E9%9A%8E&bounds=&components=&region=&language=\n",
      "2021-06-19 16:42:29.955 INFO    geocoder.base: Requested https://maps.googleapis.com/maps/api/geocode/json?address=%E6%9D%B1%E4%BA%AC%E9%83%BD%E5%8F%B0%E6%9D%B1%E5%8C%BA%E6%B5%85%E8%8D%893-12-4&bounds=&components=&region=&language=\n",
      "2021-06-19 16:42:30.103 INFO    geocoder.base: Requested https://maps.googleapis.com/maps/api/geocode/json?address=%E6%9D%B1%E4%BA%AC%E9%83%BD%E8%B6%B3%E7%AB%8B%E5%8C%BA%E8%A5%BF%E6%96%B0%E4%BA%95%E6%A0%84%E7%94%BA2-16-10&bounds=&components=&region=&language=\n",
      "2021-06-19 16:42:30.241 INFO    geocoder.base: Requested https://maps.googleapis.com/maps/api/geocode/json?address=%E6%9D%B1%E4%BA%AC%E9%83%BD%E8%B1%8A%E5%B3%B6%E5%8C%BA%E5%8C%97%E5%A4%A7%E5%A1%9A3-29-6&bounds=&components=&region=&language=\n",
      "2021-06-19 16:42:30.392 INFO    geocoder.base: Requested https://maps.googleapis.com/maps/api/geocode/json?address=%E6%9D%B1%E4%BA%AC%E9%83%BD%E5%A4%A7%E7%94%B0%E5%8C%BA%E4%B8%8B%E4%B8%B8%E5%AD%903-6-6&bounds=&components=&region=&language=\n",
      "2021-06-19 16:42:30.571 INFO    geocoder.base: Requested https://maps.googleapis.com/maps/api/geocode/json?address=%E6%9D%B1%E4%BA%AC%E9%83%BD%E5%85%AB%E7%8E%8B%E5%AD%90%E5%B8%82%E5%88%9D%E6%B2%A2%E7%94%BA%EF%BC%91%EF%BC%92%EF%BC%92%EF%BC%97%EF%BC%8D%EF%BC%98+%E5%A4%95%E6%9C%88%E3%83%93%E3%83%AB1+%E9%9A%8E&bounds=&components=&region=&language=\n",
      "2021-06-19 16:42:30.719 INFO    geocoder.base: Requested https://maps.googleapis.com/maps/api/geocode/json?address=%E6%9D%B1%E4%BA%AC%E9%83%BD%E6%9D%BF%E6%A9%8B%E5%8C%BA%E5%BC%A5%E7%94%9F%E7%94%BA35-1+%E6%9D%B1%E5%9C%92%E3%83%93%E3%83%AB1+F&bounds=&components=&region=&language=\n",
      "2021-06-19 16:42:30.869 INFO    geocoder.base: Requested https://maps.googleapis.com/maps/api/geocode/json?address=%E6%9D%B1%E4%BA%AC%E9%83%BD%E6%9D%BF%E6%A9%8B%E5%8C%BA%E5%B0%8F%E8%8C%82%E6%A0%B91-21-4&bounds=&components=&region=&language=\n",
      "2021-06-19 16:42:31.023 INFO    geocoder.base: Requested https://maps.googleapis.com/maps/api/geocode/json?address=%E6%9D%B1%E4%BA%AC%E9%83%BD%E6%96%B0%E5%AE%BF%E5%8C%BA%E9%AB%98%E7%94%B0%E9%A6%AC%E5%A0%B41-26-12+%E9%AB%98%E7%94%B0%E9%A6%AC%E5%A0%B4%E3%83%93%E3%83%AB2+F&bounds=&components=&region=&language=\n",
      "2021-06-19 16:42:31.188 INFO    geocoder.base: Requested https://maps.googleapis.com/maps/api/geocode/json?address=%E6%9D%B1%E4%BA%AC%E9%83%BD%E6%B8%8B%E8%B0%B7%E5%8C%BA%E6%81%B5%E6%AF%94%E5%AF%BF2-9-5+%E3%83%AA%E3%83%99%E3%83%AB%E3%82%BF%E2%85%A21+%E9%9A%8E&bounds=&components=&region=&language=\n",
      "2021-06-19 16:42:31.347 INFO    geocoder.base: Requested https://maps.googleapis.com/maps/api/geocode/json?address=%E6%9D%B1%E4%BA%AC%E9%83%BD%E4%B8%96%E7%94%B0%E8%B0%B7%E5%8C%BA%E6%B1%A0%E5%B0%BB3-19-3&bounds=&components=&region=&language=\n",
      "2021-06-19 16:42:31.482 INFO    geocoder.base: Requested https://maps.googleapis.com/maps/api/geocode/json?address=%E6%9D%B1%E4%BA%AC%E9%83%BD%E5%A2%A8%E7%94%B0%E5%8C%BA%E6%8A%BC%E4%B8%8A%EF%BC%93%EF%BC%8D%EF%BC%91%EF%BC%90%EF%BC%8D%EF%BC%99&bounds=&components=&region=&language=\n",
      "2021-06-19 16:42:31.653 INFO    geocoder.base: Requested https://maps.googleapis.com/maps/api/geocode/json?address=%E6%9D%B1%E4%BA%AC%E9%83%BD%E5%93%81%E5%B7%9D%E5%8C%BA%E5%8D%97%E5%93%81%E5%B7%9D5%EF%BC%8D4%EF%BC%8D2&bounds=&components=&region=&language=\n",
      "2021-06-19 16:42:31.810 INFO    geocoder.base: Requested https://maps.googleapis.com/maps/api/geocode/json?address=%E6%9D%B1%E4%BA%AC%E9%83%BD%E6%9D%89%E4%B8%A6%E5%8C%BA%E9%98%BF%E4%BD%90%E8%B0%B7%E5%8C%97%EF%BC%91%EF%BC%8D%EF%BC%94%EF%BC%8D%EF%BC%91%EF%BC%91&bounds=&components=&region=&language=\n",
      "2021-06-19 16:42:31.969 INFO    geocoder.base: Requested https://maps.googleapis.com/maps/api/geocode/json?address=%E6%9D%B1%E4%BA%AC%E9%83%BD%E6%B8%8B%E8%B0%B7%E5%8C%BA%E6%B8%8B%E8%B0%B71%E2%80%9023%E2%80%9016&bounds=&components=&region=&language=\n",
      "2021-06-19 16:42:32.114 INFO    geocoder.base: Requested https://maps.googleapis.com/maps/api/geocode/json?address=%E6%9D%B1%E4%BA%AC%E9%83%BD%E6%9D%89%E4%B8%A6%E5%8C%BA%E9%98%BF%E4%BD%90%E8%B0%B7%E5%8C%971-35-7&bounds=&components=&region=&language=\n",
      "2021-06-19 16:42:32.256 INFO    geocoder.base: Requested https://maps.googleapis.com/maps/api/geocode/json?address=%E6%9D%B1%E4%BA%AC%E9%83%BD%E7%B7%B4%E9%A6%AC%E5%8C%BA%E7%B7%B4%E9%A6%AC1-5-13+%E7%B7%B4%E9%A6%AC%E9%A7%85%E5%89%8D%E3%83%93%E3%83%AB3+F&bounds=&components=&region=&language=\n",
      "2021-06-19 16:42:32.417 INFO    geocoder.base: Requested https://maps.googleapis.com/maps/api/geocode/json?address=%E6%9D%B1%E4%BA%AC%E9%83%BD%E6%B8%8B%E8%B0%B7%E5%8C%BA%E9%81%93%E7%8E%84%E5%9D%822-6-2+%E3%80%80%E8%97%A4%E5%B1%B1%E6%81%92%E7%94%A3%E9%81%93%E7%8E%84%E5%9D%82%E3%83%93%E3%83%AB%E5%9C%B0%E4%B8%8B1+%E9%9A%8E&bounds=&components=&region=&language=\n",
      "2021-06-19 16:42:32.575 INFO    geocoder.base: Requested https://maps.googleapis.com/maps/api/geocode/json?address=%E6%9D%B1%E4%BA%AC%E9%83%BD%E5%A4%A7%E7%94%B0%E5%8C%BA%E8%92%B2%E7%94%B0+2-8-12&bounds=&components=&region=&language=\n",
      "2021-06-19 16:42:32.729 INFO    geocoder.base: Requested https://maps.googleapis.com/maps/api/geocode/json?address=%E6%9D%B1%E4%BA%AC%E9%83%BD%E5%A4%9A%E6%91%A9%E5%B8%82%E6%B0%B8%E5%B1%B11-4+%E3%80%80%E3%82%B0%E3%83%AA%E3%83%8A-%E3%83%89%E6%B0%B8%E5%B1%B1%EF%BC%91%E5%8F%B7%E9%A4%A8%EF%BC%93+F&bounds=&components=&region=&language=\n",
      "2021-06-19 16:42:32.879 INFO    geocoder.base: Requested https://maps.googleapis.com/maps/api/geocode/json?address=%E6%9D%B1%E4%BA%AC%E9%83%BD%E5%8F%B0%E6%9D%B1%E5%8C%BA%E8%A5%BF%E6%B5%85%E8%8D%892%EF%BC%8D1%EF%BC%8D4+%E9%88%B4%E6%9C%A8%E3%83%93%E3%83%AB202%E5%8F%B7%E5%AE%A4&bounds=&components=&region=&language=\n",
      "2021-06-19 16:42:33.036 INFO    geocoder.base: Requested https://maps.googleapis.com/maps/api/geocode/json?address=%E6%9D%B1%E4%BA%AC%E9%83%BD%E5%B0%8F%E5%B9%B3%E5%B8%82%E7%BE%8E%E5%9C%92%E7%94%BA2-9-5-2+%E9%9A%8E&bounds=&components=&region=&language=\n",
      "2021-06-19 16:42:33.207 INFO    geocoder.base: Requested https://maps.googleapis.com/maps/api/geocode/json?address=%E6%9D%B1%E4%BA%AC%E9%83%BD%E5%8F%B0%E6%9D%B1%E5%8C%BA%E4%B8%8A%E9%87%8E%EF%BC%95%EF%BC%8D%EF%BC%92%EF%BC%96%EF%BC%8D%EF%BC%91%EF%BC%96&bounds=&components=&region=&language=\n",
      "2021-06-19 16:42:33.385 INFO    geocoder.base: Requested https://maps.googleapis.com/maps/api/geocode/json?address=%E6%9D%B1%E4%BA%AC%E9%83%BD%E6%B8%AF%E5%8C%BA%E8%B5%A4%E5%9D%822-9-4++%E8%B5%A4%E5%9D%82%E5%B1%B1%E7%8E%8B%E3%83%93%E3%83%AB2+%E9%9A%8E&bounds=&components=&region=&language=\n",
      "2021-06-19 16:42:33.561 INFO    geocoder.base: Requested https://maps.googleapis.com/maps/api/geocode/json?address=%E6%9D%B1%E4%BA%AC%E9%83%BD%E6%B1%9F%E6%9D%B1%E5%8C%BA%E9%96%80%E5%89%8D%E4%BB%B2%E7%94%BA%EF%BC%91%EF%BC%8D%EF%BC%98%EF%BC%8D%EF%BC%98&bounds=&components=&region=&language=\n",
      "2021-06-19 16:42:33.719 INFO    geocoder.base: Requested https://maps.googleapis.com/maps/api/geocode/json?address=%E6%9D%B1%E4%BA%AC%E9%83%BD%E6%96%B0%E5%AE%BF%E5%8C%BA%E9%AB%98%E7%94%B0%E9%A6%AC%E5%A0%B44-13-12&bounds=&components=&region=&language=\n",
      "2021-06-19 16:42:33.854 INFO    geocoder.base: Requested https://maps.googleapis.com/maps/api/geocode/json?address=%E6%9D%B1%E4%BA%AC%E9%83%BD%E5%8D%83%E4%BB%A3%E7%94%B0%E5%8C%BA%E7%A5%9E%E7%94%B0%E9%A0%88%E7%94%B0%E7%94%BA2-9-13&bounds=&components=&region=&language=\n",
      "2021-06-19 16:42:34.000 INFO    geocoder.base: Requested https://maps.googleapis.com/maps/api/geocode/json?address=%E6%9D%B1%E4%BA%AC%E9%83%BD%E6%9D%89%E4%B8%A6%E5%8C%BA%E8%A5%BF%E8%8D%BB%E5%8D%973+%E2%80%9521%EF%BC%8D%EF%BC%98&bounds=&components=&region=&language=\n",
      "2021-06-19 16:42:34.162 INFO    geocoder.base: Requested https://maps.googleapis.com/maps/api/geocode/json?address=%E6%9D%B1%E4%BA%AC%E9%83%BD%E5%B0%8F%E5%B9%B3%E5%B8%82%E5%AD%A6%E5%9C%92%E8%A5%BF%E7%94%BA2-2-15&bounds=&components=&region=&language=\n",
      "2021-06-19 16:42:34.321 INFO    geocoder.base: Requested https://maps.googleapis.com/maps/api/geocode/json?address=%E6%9D%B1%E4%BA%AC%E9%83%BD%E5%B0%8F%E5%B9%B3%E5%B8%82%E5%B0%8F%E5%B7%9D%E7%94%BA1-432-1+%E3%81%84%E3%81%AA%E3%81%92%E3%82%84%E5%B0%8F%E5%B9%B3%E5%B0%8F%E5%B7%9D%E6%A9%8B%E5%BA%97%EF%BC%91+F&bounds=&components=&region=&language=\n",
      "2021-06-19 16:42:34.473 INFO    geocoder.base: Requested https://maps.googleapis.com/maps/api/geocode/json?address=%E6%9D%B1%E4%BA%AC%E9%83%BD%E6%B8%AF%E5%8C%BA%E8%99%8E%E3%83%8E%E9%96%802-10-4&bounds=&components=&region=&language=\n",
      "2021-06-19 16:42:34.641 INFO    geocoder.base: Requested https://maps.googleapis.com/maps/api/geocode/json?address=%E6%9D%B1%E4%BA%AC%E9%83%BD%E6%B8%8B%E8%B0%B7%E5%8C%BA%E5%86%86%E5%B1%B1%E7%94%BA5-5&bounds=&components=&region=&language=\n",
      "2021-06-19 16:42:34.780 INFO    geocoder.base: Requested https://maps.googleapis.com/maps/api/geocode/json?address=%E6%9D%B1%E4%BA%AC%E9%83%BD%E7%9B%AE%E9%BB%92%E5%8C%BA%E4%B8%AD%E7%94%BA%EF%BC%92%EF%BC%8D%EF%BC%94%EF%BC%94%EF%BC%8D%EF%BC%91%EF%BC%93&bounds=&components=&region=&language=\n",
      "2021-06-19 16:42:34.906 INFO    geocoder.base: Requested https://maps.googleapis.com/maps/api/geocode/json?address=%E6%9D%B1%E4%BA%AC%E9%83%BD%E5%A4%A7%E7%94%B0%E5%8C%BA%E5%A4%A7%E6%A3%AE%E8%A5%BF4-4-15&bounds=&components=&region=&language=\n",
      "2021-06-19 16:42:35.048 INFO    geocoder.base: Requested https://maps.googleapis.com/maps/api/geocode/json?address=%E6%9D%B1%E4%BA%AC%E9%83%BD%E8%B6%B3%E7%AB%8B%E5%8C%BA%E6%A0%97%E5%8E%9F3-10-15++TKS%E3%83%93%E3%83%AB&bounds=&components=&region=&language=\n",
      "2021-06-19 16:42:35.214 INFO    geocoder.base: Requested https://maps.googleapis.com/maps/api/geocode/json?address=%E6%9D%B1%E4%BA%AC%E9%83%BD%E8%91%9B%E9%A3%BE%E5%8C%BA%E5%9B%9B%E3%81%A4%E6%9C%A8%EF%BC%91%EF%BC%8D%EF%BC%92%EF%BC%92%EF%BC%8D%EF%BC%91%EF%BC%90&bounds=&components=&region=&language=\n",
      "2021-06-19 16:42:35.406 INFO    geocoder.base: Requested https://maps.googleapis.com/maps/api/geocode/json?address=%E6%9D%B1%E4%BA%AC%E9%83%BD%E5%8F%B0%E6%9D%B1%E5%8C%BA%E4%B8%8A%E9%87%8E7-5-5&bounds=&components=&region=&language=\n",
      "2021-06-19 16:42:35.562 INFO    geocoder.base: Requested https://maps.googleapis.com/maps/api/geocode/json?address=%E6%9D%B1%E4%BA%AC%E9%83%BD%E6%96%87%E4%BA%AC%E5%8C%BA%E6%9C%AC%E9%83%B73-19-6+%E3%80%80%E3%83%AF%E3%82%A4%E3%83%A6-%E3%83%93%E3%83%AB%EF%BC%91+F&bounds=&components=&region=&language=\n",
      "2021-06-19 16:42:35.733 INFO    geocoder.base: Requested https://maps.googleapis.com/maps/api/geocode/json?address=%E6%9D%B1%E4%BA%AC%E9%83%BD%E5%85%AB%E7%8E%8B%E5%AD%90%E5%B8%82%E5%AF%BA%E7%94%BA%EF%BC%94%EF%BC%99%EF%BC%8D%EF%BC%94&bounds=&components=&region=&language=\n",
      "2021-06-19 16:42:35.871 INFO    geocoder.base: Requested https://maps.googleapis.com/maps/api/geocode/json?address=%E6%9D%B1%E4%BA%AC%E9%83%BD%E7%8B%9B%E6%B1%9F%E5%B8%82%E6%9D%B1%E5%92%8C%E6%B3%893-6-10+%E3%80%80%E3%83%AA%E3%83%90-%E3%83%97%E3%83%A9%E3%82%B6203&bounds=&components=&region=&language=\n",
      "2021-06-19 16:42:36.010 INFO    geocoder.base: Requested https://maps.googleapis.com/maps/api/geocode/json?address=%E6%9D%B1%E4%BA%AC%E9%83%BD%E4%B8%AD%E9%87%8E%E5%8C%BA%E5%8D%97%E5%8F%B02-29-3-103&bounds=&components=&region=&language=\n",
      "2021-06-19 16:42:36.152 INFO    geocoder.base: Requested https://maps.googleapis.com/maps/api/geocode/json?address=%E6%9D%B1%E4%BA%AC%E9%83%BD%E6%9D%89%E4%B8%A6%E5%8C%BA%E5%A4%A9%E6%B2%BC2-44-11-102&bounds=&components=&region=&language=\n",
      "2021-06-19 16:42:36.295 INFO    geocoder.base: Requested https://maps.googleapis.com/maps/api/geocode/json?address=%E6%9D%B1%E4%BA%AC%E9%83%BD%E6%B8%AF%E5%8C%BA%E4%B8%89%E7%94%B0%EF%BC%93%EF%BC%8D%EF%BC%92%EF%BC%8D%EF%BC%94&bounds=&components=&region=&language=\n",
      "2021-06-19 16:42:36.425 INFO    geocoder.base: Requested https://maps.googleapis.com/maps/api/geocode/json?address=%E6%9D%B1%E4%BA%AC%E9%83%BD%E6%96%87%E4%BA%AC%E5%8C%BA%E6%9C%AC%E9%83%B7%EF%BC%95%EF%BC%8D%EF%BC%91%EF%BC%8D%EF%BC%92%EF%BC%8D%EF%BC%91%EF%BC%90%EF%BC%93&bounds=&components=&region=&language=\n",
      "2021-06-19 16:42:36.543 INFO    geocoder.base: Requested https://maps.googleapis.com/maps/api/geocode/json?address=%E6%9D%B1%E4%BA%AC%E9%83%BD%E5%BA%9C%E4%B8%AD%E5%B8%82%E5%BA%9C%E4%B8%AD%E7%94%BA2%E4%B8%81%E7%9B%AE6%E7%95%AA%E5%9C%B0%E3%81%AE%EF%BC%91+%E3%83%97%E3%83%A9%E3%82%A6%E3%83%89%E5%BA%9C%E4%B8%AD%E3%82%BB%E3%83%B3%E3%83%88%E3%83%A9%E3%83%AB%E5%BA%97%E8%88%97%EF%BC%91&bounds=&components=&region=&language=\n",
      "2021-06-19 16:42:36.681 INFO    geocoder.base: Requested https://maps.googleapis.com/maps/api/geocode/json?address=%E6%9D%B1%E4%BA%AC%E9%83%BD%E5%8C%97%E5%8C%BA%E6%A1%90%E3%83%B6%E4%B8%981-9-1-2&bounds=&components=&region=&language=\n",
      "2021-06-19 16:42:36.812 INFO    geocoder.base: Requested https://maps.googleapis.com/maps/api/geocode/json?address=%E6%9D%B1%E4%BA%AC%E9%83%BD%E6%96%B0%E5%AE%BF%E5%8C%BA%E6%96%B0%E5%AE%BF3-1-32+%E6%96%B0%E5%AE%BF%E3%83%93%E3%83%AB2%E5%8F%B7%E9%A4%A8%EF%BC%92+%E9%9A%8E&bounds=&components=&region=&language=\n",
      "2021-06-19 16:42:36.952 INFO    geocoder.base: Requested https://maps.googleapis.com/maps/api/geocode/json?address=%E6%9D%B1%E4%BA%AC%E9%83%BD%E6%96%B0%E5%AE%BF%E5%8C%BA%E5%A4%A7%E4%B9%85%E4%BF%9D2-19-1+%E3%82%BB%E3%83%B3%E3%83%88%E3%83%A9%E3%83%AB%E5%A4%A7%E4%B9%85%E4%BF%9D%E3%83%93%E3%83%AB%E5%9C%B0%E4%B8%8B1+%E9%9A%8E1%E5%8F%B7&bounds=&components=&region=&language=\n",
      "2021-06-19 16:42:37.115 INFO    geocoder.base: Requested https://maps.googleapis.com/maps/api/geocode/json?address=%E6%9D%B1%E4%BA%AC%E9%83%BD%E6%96%87%E4%BA%AC%E5%8C%BA%E5%B0%8F%E7%9F%B3%E5%B7%9D4-21-1&bounds=&components=&region=&language=\n",
      "2021-06-19 16:42:37.270 INFO    geocoder.base: Requested https://maps.googleapis.com/maps/api/geocode/json?address=%E6%9D%B1%E4%BA%AC%E9%83%BD%E4%B8%AD%E9%87%8E%E5%8C%BA%E4%B8%AD%E5%A4%AE1-32-3&bounds=&components=&region=&language=\n",
      "2021-06-19 16:42:37.439 INFO    geocoder.base: Requested https://maps.googleapis.com/maps/api/geocode/json?address=%E6%9D%B1%E4%BA%AC%E9%83%BD%E8%8D%92%E5%B7%9D%E5%8C%BA%E7%94%BA%E5%B1%8B%EF%BC%92%EF%BC%8D%EF%BC%98%EF%BC%8D%EF%BC%92%EF%BC%8D%EF%BC%91%EF%BC%90%EF%BC%92&bounds=&components=&region=&language=\n",
      "2021-06-19 16:42:37.607 INFO    geocoder.base: Requested https://maps.googleapis.com/maps/api/geocode/json?address=%E6%9D%B1%E4%BA%AC%E9%83%BD%E8%B1%8A%E5%B3%B6%E5%8C%BA%E6%9D%B1%E6%B1%A0%E8%A2%8B1-2-7+%E3%80%80%E7%AC%AC3+%E3%83%8A%E3%82%AB%E3%83%A0%E3%83%A9%E3%83%93%E3%83%AB%E5%9C%B0%E4%B8%8B1+%E9%9A%8E&bounds=&components=&region=&language=\n",
      "2021-06-19 16:42:37.767 INFO    geocoder.base: Requested https://maps.googleapis.com/maps/api/geocode/json?address=%E6%9D%B1%E4%BA%AC%E9%83%BD%E4%B8%AD%E5%A4%AE%E5%8C%BA%E6%97%A5%E6%9C%AC%E6%A9%8B%E8%8C%85%E5%A0%B4%E7%94%BA1-4-5&bounds=&components=&region=&language=\n",
      "2021-06-19 16:42:37.921 INFO    geocoder.base: Requested https://maps.googleapis.com/maps/api/geocode/json?address=%E6%9D%B1%E4%BA%AC%E9%83%BD%E6%B8%8B%E8%B0%B7%E5%8C%BA%E7%A5%9E%E5%AE%AE%E5%89%8D1-11-6&bounds=&components=&region=&language=\n",
      "2021-06-19 16:42:38.068 INFO    geocoder.base: Requested https://maps.googleapis.com/maps/api/geocode/json?address=%E6%9D%B1%E4%BA%AC%E9%83%BD%E6%9D%89%E4%B8%A6%E5%8C%BA%E9%AB%98%E5%86%86%E5%AF%BA%E5%8D%97%EF%BC%94-11-1+%E3%83%A1%E3%82%BE%E3%83%B3%E5%AF%BF%EF%BC%91%EF%BC%90%EF%BC%92&bounds=&components=&region=&language=\n",
      "2021-06-19 16:42:38.197 INFO    geocoder.base: Requested https://maps.googleapis.com/maps/api/geocode/json?address=%E6%9D%B1%E4%BA%AC%E9%83%BD%E5%B0%8F%E7%AC%A0%E5%8E%9F%E6%9D%91%E7%88%B6%E5%B3%B6%E8%A5%BF%E7%94%BA24-10&bounds=&components=&region=&language=\n",
      "2021-06-19 16:42:38.332 INFO    geocoder.base: Requested https://maps.googleapis.com/maps/api/geocode/json?address=%E6%9D%B1%E4%BA%AC%E9%83%BD%E8%B6%B3%E7%AB%8B%E5%8C%BA%E8%88%88%E9%87%8E1-15-%EF%BC%91%EF%BC%92&bounds=&components=&region=&language=\n",
      "2021-06-19 16:42:38.480 INFO    geocoder.base: Requested https://maps.googleapis.com/maps/api/geocode/json?address=%E6%9D%B1%E4%BA%AC%E9%83%BD%E6%B1%9F%E6%9D%B1%E5%8C%BA%E8%B1%8A%E6%B4%B23-2-24+%E3%80%80%E8%B1%8A%E6%B4%B2%E3%83%95%E3%82%A9%E3%83%AC%E3%82%B7%E3%82%A2&bounds=&components=&region=&language=\n",
      "2021-06-19 16:42:38.637 INFO    geocoder.base: Requested https://maps.googleapis.com/maps/api/geocode/json?address=%E6%9D%B1%E4%BA%AC%E9%83%BD%E4%B8%96%E7%94%B0%E8%B0%B7%E5%8C%BA%E5%8C%97%E6%B2%A2+3-31-2&bounds=&components=&region=&language=\n",
      "2021-06-19 16:42:38.754 INFO    geocoder.base: Requested https://maps.googleapis.com/maps/api/geocode/json?address=%E6%9D%B1%E4%BA%AC%E9%83%BD%E5%A4%A7%E7%94%B0%E5%8C%BA%E8%92%B2%E7%94%B0+2-8-12&bounds=&components=&region=&language=\n",
      "2021-06-19 16:42:38.892 INFO    geocoder.base: Requested https://maps.googleapis.com/maps/api/geocode/json?address=%E6%9D%B1%E4%BA%AC%E9%83%BD%E8%B1%8A%E5%B3%B6%E5%8C%BA%E6%9D%B1%E6%B1%A0%E8%A2%8B1-36-1&bounds=&components=&region=&language=\n",
      "2021-06-19 16:42:39.070 INFO    geocoder.base: Requested https://maps.googleapis.com/maps/api/geocode/json?address=%E6%9D%B1%E4%BA%AC%E9%83%BD%E5%B0%8F%E5%B9%B3%E5%B8%82%E5%B0%8F%E5%B7%9D%E8%A5%BF%E7%94%BA4-15-15&bounds=&components=&region=&language=\n",
      "2021-06-19 16:42:39.209 INFO    geocoder.base: Requested https://maps.googleapis.com/maps/api/geocode/json?address=%E6%9D%B1%E4%BA%AC%E9%83%BD%E4%B8%96%E7%94%B0%E8%B0%B7%E5%8C%BA%E5%8C%97%E6%B2%A22-24-5+%E3%82%B7%E3%83%A2%E3%82%AD%E3%82%BF%E3%83%95%E3%83%AD%E3%83%B3%E3%83%88201&bounds=&components=&region=&language=\n",
      "2021-06-19 16:42:39.370 INFO    geocoder.base: Requested https://maps.googleapis.com/maps/api/geocode/json?address=%E6%9D%B1%E4%BA%AC%E9%83%BD%E5%A4%A7%E7%94%B0%E5%8C%BA%E5%A4%A7%E6%A3%AE%E8%A5%BF4-4-15&bounds=&components=&region=&language=\n",
      "2021-06-19 16:42:39.535 INFO    geocoder.base: Requested https://maps.googleapis.com/maps/api/geocode/json?address=%E6%9D%B1%E4%BA%AC%E9%83%BD%E7%AB%8B%E5%B7%9D%E5%B8%82%E6%B3%89%E7%94%BA935-1&bounds=&components=&region=&language=\n",
      "2021-06-19 16:42:39.674 INFO    geocoder.base: Requested https://maps.googleapis.com/maps/api/geocode/json?address=%E6%9D%B1%E4%BA%AC%E9%83%BD%E5%9B%BD%E5%88%86%E5%AF%BA%E5%B8%82%E6%B3%89%E7%94%BA3-37-31&bounds=&components=&region=&language=\n",
      "2021-06-19 16:42:39.827 INFO    geocoder.base: Requested https://maps.googleapis.com/maps/api/geocode/json?address=%E6%9D%B1%E4%BA%AC%E9%83%BD%E5%9B%BD%E5%88%86%E5%AF%BA%E5%B8%82%E8%A5%BF%E6%81%8B%E3%83%B6%E7%AA%AA3-28-1+%E3%81%84%E3%81%AA%E3%81%92%E3%82%84ina21+%E5%9B%BD%E5%88%86%E5%AF%BA%E8%A5%BF%E6%81%8B%E3%83%B6%E7%AA%AA%E5%BA%97%EF%BC%91+F&bounds=&components=&region=&language=\n",
      "2021-06-19 16:42:39.976 INFO    geocoder.base: Requested https://maps.googleapis.com/maps/api/geocode/json?address=%E6%9D%B1%E4%BA%AC%E9%83%BD%E5%9B%BD%E5%88%86%E5%AF%BA%E5%B8%82%E5%8D%97%E7%94%BA2-1-42&bounds=&components=&region=&language=\n",
      "2021-06-19 16:42:40.114 INFO    geocoder.base: Requested https://maps.googleapis.com/maps/api/geocode/json?address=%E6%9D%B1%E4%BA%AC%E9%83%BD%E6%B8%8B%E8%B0%B7%E5%8C%BA%E9%81%93%E7%8E%84%E5%9D%822-7-3+%E3%80%80%E4%B8%89%E5%96%9C%E3%83%93%E3%83%AB4+%E9%9A%8E&bounds=&components=&region=&language=\n",
      "2021-06-19 16:42:40.284 INFO    geocoder.base: Requested https://maps.googleapis.com/maps/api/geocode/json?address=%E6%9D%B1%E4%BA%AC%E9%83%BD%E8%B1%8A%E5%B3%B6%E5%8C%BA%E9%9B%91%E5%8F%B8%E3%81%8C%E8%B0%B72-5-1&bounds=&components=&region=&language=\n",
      "2021-06-19 16:42:40.411 INFO    geocoder.base: Requested https://maps.googleapis.com/maps/api/geocode/json?address=%E6%9D%B1%E4%BA%AC%E9%83%BD%E4%B8%AD%E9%87%8E%E5%8C%BA%E6%9D%B1%E4%B8%AD%E9%87%8E1-35-5&bounds=&components=&region=&language=\n",
      "2021-06-19 16:42:40.549 INFO    geocoder.base: Requested https://maps.googleapis.com/maps/api/geocode/json?address=%E6%9D%B1%E4%BA%AC%E9%83%BD%E6%B8%AF%E5%8C%BA%E4%B8%89%E7%94%B05%EF%BC%8D%EF%BC%91%EF%BC%91%EF%BC%8D%EF%BC%91%EF%BC%94&bounds=&components=&region=&language=\n",
      "2021-06-19 16:42:40.696 INFO    geocoder.base: Requested https://maps.googleapis.com/maps/api/geocode/json?address=%E6%9D%B1%E4%BA%AC%E9%83%BD%E7%AB%8B%E5%B7%9D%E5%B8%82%E6%B3%89%E7%94%BA+935-1+%E3%80%80%E3%82%89%E3%82%89%E3%81%BD-%E3%81%A8%E7%AB%8B%E5%B7%9D%E7%AB%8B%E9%A3%9B+3+%E9%9A%8E30500&bounds=&components=&region=&language=\n",
      "2021-06-19 16:42:40.830 INFO    geocoder.base: Requested https://maps.googleapis.com/maps/api/geocode/json?address=%E6%9D%B1%E4%BA%AC%E9%83%BD%E6%B1%9F%E6%9D%B1%E5%8C%BA%E5%A4%A7%E5%B3%B65%E4%B8%81%E7%9B%AE47-5+%E3%82%B5%E3%83%B3%E3%83%92%E3%83%AB%E3%82%BA102&bounds=&components=&region=&language=\n",
      "2021-06-19 16:42:40.993 INFO    geocoder.base: Requested https://maps.googleapis.com/maps/api/geocode/json?address=%E6%9D%B1%E4%BA%AC%E9%83%BD%E4%B8%AD%E9%87%8E%E5%8C%BA%E4%B8%AD%E9%87%8E5-61-12&bounds=&components=&region=&language=\n",
      "2021-06-19 16:42:41.138 INFO    geocoder.base: Requested https://maps.googleapis.com/maps/api/geocode/json?address=%E6%9D%B1%E4%BA%AC%E9%83%BD%E4%B8%AD%E9%87%8E%E5%8C%BA%E6%96%B0%E4%BA%952-10-9&bounds=&components=&region=&language=\n",
      "2021-06-19 16:42:41.271 INFO    geocoder.base: Requested https://maps.googleapis.com/maps/api/geocode/json?address=%E6%9D%B1%E4%BA%AC%E9%83%BD%E5%8D%83%E4%BB%A3%E7%94%B0%E5%8C%BA%E7%A5%9E%E7%94%B0%E4%B8%89%E5%B4%8E%E7%94%BA2-14-3&bounds=&components=&region=&language=\n",
      "2021-06-19 16:42:41.414 INFO    geocoder.base: Requested https://maps.googleapis.com/maps/api/geocode/json?address=%E6%9D%B1%E4%BA%AC%E9%83%BD%E6%B1%9F%E6%88%B8%E5%B7%9D%E5%8C%BA%E4%B8%AD%E8%91%9B%E8%A5%BF%EF%BC%93%EF%BC%8D%EF%BC%91%EF%BC%95%EF%BC%8D%EF%BC%91%EF%BC%94&bounds=&components=&region=&language=\n",
      "2021-06-19 16:42:41.565 INFO    geocoder.base: Requested https://maps.googleapis.com/maps/api/geocode/json?address=%E6%9D%B1%E4%BA%AC%E9%83%BD%E6%B8%AF%E5%8C%BA%E6%96%B0%E6%A9%8B%E5%9B%9B%E4%B8%81%E7%9B%AE11%E7%95%AA5%E5%8F%B7+%E3%83%AB%E3%83%BB%E3%82%B0%E3%83%A9%E3%82%B7%E3%82%A8%E3%83%ABBLDG.41++1+%E9%9A%8E%E5%B7%A6%E5%81%B4&bounds=&components=&region=&language=\n",
      "2021-06-19 16:42:41.700 INFO    geocoder.base: Requested https://maps.googleapis.com/maps/api/geocode/json?address=%E6%9D%B1%E4%BA%AC%E9%83%BD%E7%9B%AE%E9%BB%92%E5%8C%BA%E4%B8%8B%E7%9B%AE%E9%BB%92%EF%BC%96%EF%BC%8D%EF%BC%91%EF%BC%98%EF%BC%8D%EF%BC%92%EF%BC%98&bounds=&components=&region=&language=\n",
      "2021-06-19 16:42:41.857 INFO    geocoder.base: Requested https://maps.googleapis.com/maps/api/geocode/json?address=%E6%9D%B1%E4%BA%AC%E9%83%BD%E7%9B%AE%E9%BB%92%E5%8C%BA%E7%B7%91%E3%81%8C%E4%B8%982-6-15++%E7%B9%81%E6%A0%84%E3%83%93%E3%83%AB202&bounds=&components=&region=&language=\n",
      "2021-06-19 16:42:42.011 INFO    geocoder.base: Requested https://maps.googleapis.com/maps/api/geocode/json?address=%E6%9D%B1%E4%BA%AC%E9%83%BD%E6%96%B0%E5%AE%BF%E5%8C%BA%E8%A5%BF%E6%96%B0%E5%AE%BF1-18+%E3%80%80%E4%BA%AC%E7%8E%8B%E3%83%A2-%E3%83%AB%E3%82%A2%E3%83%8D%E3%83%83%E3%82%AF%E3%82%B9%E5%86%85&bounds=&components=&region=&language=\n",
      "2021-06-19 16:42:42.147 INFO    geocoder.base: Requested https://maps.googleapis.com/maps/api/geocode/json?address=%E6%9D%B1%E4%BA%AC%E9%83%BD%E5%A2%A8%E7%94%B0%E5%8C%BA%E6%9D%B1%E9%A7%92%E5%BD%A22-6-10&bounds=&components=&region=&language=\n",
      "2021-06-19 16:42:42.283 INFO    geocoder.base: Requested https://maps.googleapis.com/maps/api/geocode/json?address=%E6%9D%B1%E4%BA%AC%E9%83%BD%E6%B8%8B%E8%B0%B7%E5%8C%BA%E6%A1%9C%E4%B8%98%E7%94%BA16-12++%E6%A1%9C%E4%B8%98%E3%83%95%E3%83%AD%E3%83%B3%E3%83%88%E3%83%93%E3%83%AB1+%EF%BC%A6&bounds=&components=&region=&language=\n",
      "2021-06-19 16:42:42.449 INFO    geocoder.base: Requested https://maps.googleapis.com/maps/api/geocode/json?address=%E6%9D%B1%E4%BA%AC%E9%83%BD%E6%AD%A6%E8%94%B5%E9%87%8E%E5%B8%82%E5%90%89%E7%A5%A5%E5%AF%BA%E6%9C%AC%E7%94%BA%EF%BC%92%EF%BC%8D%EF%BC%98%EF%BC%8D%EF%BC%91&bounds=&components=&region=&language=\n",
      "2021-06-19 16:42:42.582 INFO    geocoder.base: Requested https://maps.googleapis.com/maps/api/geocode/json?address=%E6%9D%B1%E4%BA%AC%E9%83%BD%E4%B8%AD%E9%87%8E%E5%8C%BA%E6%9C%AC%E7%94%BA4-30-17+%E3%80%80%E3%83%8F%E3%82%A4%E3%83%95%E3%82%A1%E3%82%A4%E3%83%95%E3%83%A9%E3%83%83%E3%83%88B1+F&bounds=&components=&region=&language=\n",
      "2021-06-19 16:42:42.731 INFO    geocoder.base: Requested https://maps.googleapis.com/maps/api/geocode/json?address=%E6%9D%B1%E4%BA%AC%E9%83%BD%E7%9B%AE%E9%BB%92%E5%8C%BA%E9%B7%B9%E7%95%AA%EF%BC%92%EF%BC%8D%EF%BC%97%EF%BC%8D%EF%BC%94+%E3%80%80%E4%BA%94%E5%8D%81%E5%B5%90%E3%83%93%E3%83%AB%EF%BC%92+F&bounds=&components=&region=&language=\n",
      "2021-06-19 16:42:42.902 INFO    geocoder.base: Requested https://maps.googleapis.com/maps/api/geocode/json?address=%E6%9D%B1%E4%BA%AC%E9%83%BD%E3%81%82%E3%81%8D%E3%82%8B%E9%87%8E%E5%B8%82%E6%B2%B9%E5%B9%B349-1&bounds=&components=&region=&language=\n",
      "2021-06-19 16:42:43.088 INFO    geocoder.base: Requested https://maps.googleapis.com/maps/api/geocode/json?address=%E6%9D%B1%E4%BA%AC%E9%83%BD%E4%B8%96%E7%94%B0%E8%B0%B7%E5%8C%BA%E5%A4%AA%E5%AD%90%E5%A0%824-27-4&bounds=&components=&region=&language=\n",
      "2021-06-19 16:42:43.243 INFO    geocoder.base: Requested https://maps.googleapis.com/maps/api/geocode/json?address=%E6%9D%B1%E4%BA%AC%E9%83%BD%E5%B0%8F%E9%87%91%E4%BA%95%E5%B8%82%E6%9D%B1%E7%94%BA4-41-2&bounds=&components=&region=&language=\n",
      "2021-06-19 16:42:43.374 INFO    geocoder.base: Requested https://maps.googleapis.com/maps/api/geocode/json?address=%E6%9D%B1%E4%BA%AC%E9%83%BD%E6%B8%AF%E5%8C%BA%E6%84%9B%E5%AE%95%EF%BC%92%EF%BC%8D%EF%BC%95%EF%BC%8D%EF%BC%91+%E6%84%9B%E5%AE%95%E3%82%B0%E3%83%AA-%E3%83%B3%E3%83%92%E3%83%AB%E3%82%BA%EF%BC%AD%EF%BC%AF%EF%BC%B2%EF%BC%A9%E3%82%BF%E3%83%AF-%EF%BC%92+%EF%BC%A6&bounds=&components=&region=&language=\n",
      "2021-06-19 16:42:43.539 INFO    geocoder.base: Requested https://maps.googleapis.com/maps/api/geocode/json?address=%E6%9D%B1%E4%BA%AC%E9%83%BD%E5%8F%B0%E6%9D%B1%E5%8C%BA%E4%B8%8A%E9%87%8E5-26-8++%E3%83%AD%E3%82%A4%E3%83%A4%E3%83%AB%E3%83%93%E3%83%AB%E5%9C%B0%E4%B8%8B1+F&bounds=&components=&region=&language=\n",
      "2021-06-19 16:42:43.685 INFO    geocoder.base: Requested https://maps.googleapis.com/maps/api/geocode/json?address=%E6%9D%B1%E4%BA%AC%E9%83%BD%E5%93%81%E5%B7%9D%E5%8C%BA%E5%8C%97%E5%93%81%E5%B7%9D6-2-10-201&bounds=&components=&region=&language=\n",
      "2021-06-19 16:42:43.837 INFO    geocoder.base: Requested https://maps.googleapis.com/maps/api/geocode/json?address=%E6%9D%B1%E4%BA%AC%E9%83%BD%E6%B8%AF%E5%8C%BA%E6%96%B0%E6%A9%8B2-2-4+%E3%83%91%E3%82%A4%E3%82%AA%E3%83%8B%E3%82%A2%E3%83%93%E3%83%AB2+BF1&bounds=&components=&region=&language=\n",
      "2021-06-19 16:42:43.976 INFO    geocoder.base: Requested https://maps.googleapis.com/maps/api/geocode/json?address=%E6%9D%B1%E4%BA%AC%E9%83%BD%E5%A4%A7%E7%94%B0%E5%8C%BA%E8%A5%BF%E8%92%B2%E7%94%B07-4-9+%E3%80%80%E8%92%B2%E7%94%B0SK%E3%83%93%E3%83%AB1+%E9%9A%8E&bounds=&components=&region=&language=\n",
      "2021-06-19 16:42:44.119 INFO    geocoder.base: Requested https://maps.googleapis.com/maps/api/geocode/json?address=%E6%9D%B1%E4%BA%AC%E9%83%BD%E7%AB%8B%E5%B7%9D%E5%B8%82%E8%8B%A5%E8%91%89%E7%94%BA1-7-1+%E3%80%80%E8%8B%A5%E8%91%89%E3%82%B1%E3%83%A4%E3%82%AD%E3%83%A2-%E3%83%AB%EF%BC%91+F%E3%80%80%E3%83%9E%E3%83%AB%E3%82%A8%E3%83%84%E7%AB%8B%E5%B7%9D%E8%8B%A5%E8%91%89%E7%94%BA%E5%BA%97%E5%86%85&bounds=&components=&region=&language=\n",
      "2021-06-19 16:42:44.263 INFO    geocoder.base: Requested https://maps.googleapis.com/maps/api/geocode/json?address=%E6%9D%B1%E4%BA%AC%E9%83%BD%E7%AB%8B%E5%B7%9D%E5%B8%82%E6%B3%89%E7%94%BA935-1++%E3%82%89%E3%82%89%E3%81%BD-%E3%81%A8%E7%AB%8B%E5%B7%9D%E7%AB%8B%E9%A3%9B2+F+2480-1+%E5%8C%BA%E7%94%BB&bounds=&components=&region=&language=\n",
      "2021-06-19 16:42:44.400 INFO    geocoder.base: Requested https://maps.googleapis.com/maps/api/geocode/json?address=%E6%9D%B1%E4%BA%AC%E9%83%BD%E6%B8%AF%E5%8C%BA%E5%8D%97%E9%9D%92%E5%B1%B13-12-11+%E3%83%9C%E3%83%AF%E3%82%BC%E9%9D%92%E5%B1%B15+%E9%9A%8E&bounds=&components=&region=&language=\n",
      "2021-06-19 16:42:44.554 INFO    geocoder.base: Requested https://maps.googleapis.com/maps/api/geocode/json?address=%E6%9D%B1%E4%BA%AC%E9%83%BD%E8%B1%8A%E5%B3%B6%E5%8C%BA%E9%95%B7%E5%B4%8E%EF%BC%94%EF%BC%8D%EF%BC%92%EF%BC%96%EF%BC%8D%EF%BC%91%EF%BC%91&bounds=&components=&region=&language=\n",
      "2021-06-19 16:42:44.687 INFO    geocoder.base: Requested https://maps.googleapis.com/maps/api/geocode/json?address=%E6%9D%B1%E4%BA%AC%E9%83%BD%E6%96%B0%E5%AE%BF%E5%8C%BA%E7%AE%AA%E7%AC%A5%E7%94%BA%EF%BC%91%EF%BC%93+%E3%80%80%E3%82%B0%E3%83%AD-%E3%83%90%E3%83%AB%E6%96%B0%E7%A5%9E%E6%A5%BD%E5%9D%82%E3%83%93%E3%83%AB%EF%BC%91+%E9%9A%8E&bounds=&components=&region=&language=\n",
      "2021-06-19 16:42:44.815 INFO    geocoder.base: Requested https://maps.googleapis.com/maps/api/geocode/json?address=%E6%9D%B1%E4%BA%AC%E9%83%BD%E6%B8%AF%E5%8C%BA%E8%99%8E%E3%83%8E%E9%96%802-10-4&bounds=&components=&region=&language=\n",
      "2021-06-19 16:42:44.967 INFO    geocoder.base: Requested https://maps.googleapis.com/maps/api/geocode/json?address=%E6%9D%B1%E4%BA%AC%E9%83%BD%E8%91%9B%E9%A3%BE%E5%8C%BA%E6%9D%B1%E9%87%91%E7%94%BA1-37-2+++%E7%AB%8B%E5%B7%9D%E3%83%93%E3%83%AB2+F&bounds=&components=&region=&language=\n",
      "2021-06-19 16:42:45.109 INFO    geocoder.base: Requested https://maps.googleapis.com/maps/api/geocode/json?address=%E6%9D%B1%E4%BA%AC%E9%83%BD%E8%B6%B3%E7%AB%8B%E5%8C%BA%E9%9D%92%E4%BA%954-14-7&bounds=&components=&region=&language=\n",
      "2021-06-19 16:42:45.282 INFO    geocoder.base: Requested https://maps.googleapis.com/maps/api/geocode/json?address=%E6%9D%B1%E4%BA%AC%E9%83%BD%E6%98%AD%E5%B3%B6%E5%B8%82%E6%9C%9D%E6%97%A5%E7%94%BA1-4-1+%E3%80%80%E5%B9%B3%E7%94%B0%E3%83%93%E3%83%AB%EF%BC%92+%EF%BC%A6&bounds=&components=&region=&language=\n",
      "2021-06-19 16:42:45.414 INFO    geocoder.base: Requested https://maps.googleapis.com/maps/api/geocode/json?address=%E6%9D%B1%E4%BA%AC%E9%83%BD%E8%91%9B%E9%A3%BE%E5%8C%BA%E7%AB%8B%E7%9F%B31-9-10+%E5%8F%B3%E5%81%B4&bounds=&components=&region=&language=\n",
      "2021-06-19 16:42:45.562 INFO    geocoder.base: Requested https://maps.googleapis.com/maps/api/geocode/json?address=%E6%9D%B1%E4%BA%AC%E9%83%BD%E6%B8%8B%E8%B0%B7%E5%8C%BA%E4%BB%A3%E3%80%85%E6%9C%A82%EF%BC%8D9%EF%BC%8D%EF%BC%95++%E6%96%B0%E5%AE%BF%E3%83%86%E3%83%A9%E3%82%B9+B1+%E9%9A%8E&bounds=&components=&region=&language=\n",
      "2021-06-19 16:42:45.704 INFO    geocoder.base: Requested https://maps.googleapis.com/maps/api/geocode/json?address=%E6%9D%B1%E4%BA%AC%E9%83%BD%E7%AB%8B%E5%B7%9D%E5%B8%82%E6%B3%89%E7%94%BA935-1+%E3%80%803+%E9%9A%8E30600&bounds=&components=&region=&language=\n",
      "2021-06-19 16:42:45.848 INFO    geocoder.base: Requested https://maps.googleapis.com/maps/api/geocode/json?address=%E6%9D%B1%E4%BA%AC%E9%83%BD%E5%A4%A7%E7%94%B0%E5%8C%BA%E8%92%B2%E7%94%B04-7-8+%E5%AF%8C%E7%94%B0%E3%83%93%E3%83%AB1+F&bounds=&components=&region=&language=\n",
      "2021-06-19 16:42:45.994 INFO    geocoder.base: Requested https://maps.googleapis.com/maps/api/geocode/json?address=%E6%9D%B1%E4%BA%AC%E9%83%BD%E6%B1%9F%E6%9D%B1%E5%8C%BA%E6%9D%B1%E9%99%BD4%EF%BC%8D8%EF%BC%8D12&bounds=&components=&region=&language=\n",
      "2021-06-19 16:42:46.137 INFO    geocoder.base: Requested https://maps.googleapis.com/maps/api/geocode/json?address=%E6%9D%B1%E4%BA%AC%E9%83%BD%E6%9D%BF%E6%A9%8B%E5%8C%BA%E5%BE%B3%E4%B8%B81-5-2+%EF%BD%BA%EF%BD%B0%EF%BE%8E%EF%BE%9F%E4%B8%AD%E5%B1%B11+F&bounds=&components=&region=&language=\n",
      "2021-06-19 16:42:46.283 INFO    geocoder.base: Requested https://maps.googleapis.com/maps/api/geocode/json?address=%E6%9D%B1%E4%BA%AC%E9%83%BD%E6%AD%A6%E8%94%B5%E9%87%8E%E5%B8%82%E8%A5%BF%E4%B9%85%E4%BF%9D3-12-9&bounds=&components=&region=&language=\n",
      "2021-06-19 16:42:46.448 INFO    geocoder.base: Requested https://maps.googleapis.com/maps/api/geocode/json?address=%E6%9D%B1%E4%BA%AC%E9%83%BD%E5%85%AB%E7%8E%8B%E5%AD%90%E5%B8%82%E5%8C%97%E9%87%8E%E7%94%BA581-1&bounds=&components=&region=&language=\n",
      "2021-06-19 16:42:46.599 INFO    geocoder.base: Requested https://maps.googleapis.com/maps/api/geocode/json?address=%E6%9D%B1%E4%BA%AC%E9%83%BD%E5%93%81%E5%B7%9D%E5%8C%BA%E6%9D%B1%E5%A4%A7%E4%BA%955-18-1+%E3%81%8D%E3%82%85%E3%82%8A%E3%81%82%E3%82%931+%E9%9A%8E&bounds=&components=&region=&language=\n",
      "2021-06-19 16:42:46.732 INFO    geocoder.base: Requested https://maps.googleapis.com/maps/api/geocode/json?address=%E6%9D%B1%E4%BA%AC%E9%83%BD%E6%B8%AF%E5%8C%BA%E5%8D%97%E9%9D%92%E5%B1%B17%EF%BC%8D%EF%BC%94%EF%BC%8D%EF%BC%92%EF%BC%92&bounds=&components=&region=&language=\n",
      "2021-06-19 16:42:46.884 INFO    geocoder.base: Requested https://maps.googleapis.com/maps/api/geocode/json?address=%E6%9D%B1%E4%BA%AC%E9%83%BD%E6%B1%9F%E6%9D%B1%E5%8C%BA%E6%9C%A8%E5%A0%B4%EF%BC%91%EF%BC%8D%EF%BC%95%EF%BC%8D%EF%BC%93%EF%BC%90+%E3%82%A4%E3%83%88-%E3%83%A8-%E3%82%AB%E3%83%89-%E6%9C%A8%E5%A0%B4%E5%BA%97%EF%BC%91+F&bounds=&components=&region=&language=\n",
      "2021-06-19 16:42:47.028 INFO    geocoder.base: Requested https://maps.googleapis.com/maps/api/geocode/json?address=%E6%9D%B1%E4%BA%AC%E9%83%BD%E6%B1%9F%E6%88%B8%E5%B7%9D%E5%8C%BA%E5%8C%97%E8%91%9B%E8%A5%BF2%EF%BC%8D11%EF%BC%8D18&bounds=&components=&region=&language=\n",
      "2021-06-19 16:42:47.165 INFO    geocoder.base: Requested https://maps.googleapis.com/maps/api/geocode/json?address=%E6%9D%B1%E4%BA%AC%E9%83%BD%E4%B8%96%E7%94%B0%E8%B0%B7%E5%8C%BA%E4%BB%A3%E6%B2%A25-35-8+sawa%E3%83%93%E3%83%AB%EF%BC%92+F&bounds=&components=&region=&language=\n",
      "2021-06-19 16:42:47.348 INFO    geocoder.base: Requested https://maps.googleapis.com/maps/api/geocode/json?address=%E6%9D%B1%E4%BA%AC%E9%83%BD%E4%B8%AD%E5%A4%AE%E5%8C%BA%E9%8A%80%E5%BA%A71-5-10++%E3%82%AE%E3%83%B3%E3%82%B6%E3%83%95%E3%82%A1-%E3%82%B9%E3%83%88%E3%83%95%E3%82%A1%E3%82%A4%E3%83%961+%EF%BC%A6&bounds=&components=&region=&language=\n",
      "2021-06-19 16:42:47.488 INFO    geocoder.base: Requested https://maps.googleapis.com/maps/api/geocode/json?address=%E6%9D%B1%E4%BA%AC%E9%83%BD%E6%9D%B1%E5%A4%A7%E5%92%8C%E5%B8%82%E5%90%91%E5%8E%9F%EF%BC%95%EF%BC%8D%EF%BC%91%EF%BC%91%EF%BC%95%EF%BC%91%EF%BC%8D%EF%BC%91-%EF%BC%90%EF%BC%90%EF%BC%93%E5%8F%B7&bounds=&components=&region=&language=\n",
      "2021-06-19 16:42:47.642 INFO    geocoder.base: Requested https://maps.googleapis.com/maps/api/geocode/json?address=%E6%9D%B1%E4%BA%AC%E9%83%BD%E6%B1%9F%E6%9D%B1%E5%8C%BA%E6%B0%B8%E4%BB%A31-14-30&bounds=&components=&region=&language=\n",
      "2021-06-19 16:42:47.798 INFO    geocoder.base: Requested https://maps.googleapis.com/maps/api/geocode/json?address=%E6%9D%B1%E4%BA%AC%E9%83%BD%E6%B8%AF%E5%8C%BA%E8%99%8E%E3%83%8E%E9%96%801-1-23+%E3%80%80%E3%82%A6%E3%83%B3%E3%83%94%E3%83%B3%E8%99%8E%E3%83%8E%E9%96%80%E3%83%93%E3%83%AB1+F&bounds=&components=&region=&language=\n",
      "2021-06-19 16:42:47.939 INFO    geocoder.base: Requested https://maps.googleapis.com/maps/api/geocode/json?address=%E6%9D%B1%E4%BA%AC%E9%83%BD%E8%B1%8A%E5%B3%B6%E5%8C%BA%E6%9D%B1%E6%B1%A0%E8%A2%8B1-36-7+%E3%80%80%E3%82%A2%E3%83%AB%E3%83%86-%E3%83%AB%E6%B1%A0%E8%A2%8BB1&bounds=&components=&region=&language=\n",
      "2021-06-19 16:42:48.080 INFO    geocoder.base: Requested https://maps.googleapis.com/maps/api/geocode/json?address=%E6%9D%B1%E4%BA%AC%E9%83%BD%E6%B8%AF%E5%8C%BA%E5%85%AD%E6%9C%AC%E6%9C%A86%E2%80%9010%E2%80%903+%E5%85%AD%E6%9C%AC%E6%9C%A8%E3%83%92%E3%83%AB%E3%82%BA%E3%82%A6%E3%82%A7%E3%82%B9%E3%83%88%E3%82%A6%E3%82%A9-%E3%82%AF%EF%BC%95+%E9%9A%8E&bounds=&components=&region=&language=\n",
      "2021-06-19 16:42:48.221 INFO    geocoder.base: Requested https://maps.googleapis.com/maps/api/geocode/json?address=%E6%9D%B1%E4%BA%AC%E9%83%BD%E6%96%B0%E5%AE%BF%E5%8C%BA%E9%AB%98%E7%94%B0%E9%A6%AC%E5%A0%B44-4-34+%E7%AC%AC%E4%BA%8CARS%E3%83%93%E3%83%AB5+%E9%9A%8E&bounds=&components=&region=&language=\n",
      "2021-06-19 16:42:48.376 INFO    geocoder.base: Requested https://maps.googleapis.com/maps/api/geocode/json?address=%E6%9D%B1%E4%BA%AC%E9%83%BD%E6%96%B0%E5%AE%BF%E5%8C%BA%E8%A5%BF%E6%97%A9%E7%A8%B2%E7%94%B01%E4%B8%81%E7%9B%AE9-1++%E3%82%A2-%E3%83%90%E3%83%B3%E3%83%92%E3%83%AB%E3%82%BA%E6%97%A9%E7%A8%B2%E7%94%B0%E6%AD%A3%E9%96%80%E5%89%8DB1&bounds=&components=&region=&language=\n",
      "2021-06-19 16:42:48.532 INFO    geocoder.base: Requested https://maps.googleapis.com/maps/api/geocode/json?address=%E6%9D%B1%E4%BA%AC%E9%83%BD%E6%B8%8B%E8%B0%B7%E5%8C%BA%E5%BA%83%E5%B0%BE1-1-33++spc%E3%83%93%E3%83%AB1+F&bounds=&components=&region=&language=\n",
      "2021-06-19 16:42:48.706 INFO    geocoder.base: Requested https://maps.googleapis.com/maps/api/geocode/json?address=%E6%9D%B1%E4%BA%AC%E9%83%BD%E7%91%9E%E7%A9%82%E7%94%BA%E7%AE%B1%E6%A0%B9%E3%83%B6%E5%B4%8E%E6%9D%B1%E6%9D%BE%E5%8E%9F%EF%BC%91%EF%BC%90-%EF%BC%91%EF%BC%93&bounds=&components=&region=&language=\n",
      "2021-06-19 16:42:48.851 INFO    geocoder.base: Requested https://maps.googleapis.com/maps/api/geocode/json?address=%E6%9D%B1%E4%BA%AC%E9%83%BD%E4%B8%96%E7%94%B0%E8%B0%B7%E5%8C%BA%E4%B8%8A%E9%87%8E%E6%AF%9B%EF%BC%93%EF%BC%8D%EF%BC%91%EF%BC%93%EF%BC%8D%EF%BC%91%EF%BC%91&bounds=&components=&region=&language=\n",
      "2021-06-19 16:42:49.015 INFO    geocoder.base: Requested https://maps.googleapis.com/maps/api/geocode/json?address=%E6%9D%B1%E4%BA%AC%E9%83%BD%E6%9D%B1%E4%B9%85%E7%95%99%E7%B1%B3%E5%B8%82%E6%9C%AC%E7%94%BA3-6-12&bounds=&components=&region=&language=\n",
      "2021-06-19 16:42:49.169 INFO    geocoder.base: Requested https://maps.googleapis.com/maps/api/geocode/json?address=%E6%9D%B1%E4%BA%AC%E9%83%BD%E8%8D%92%E5%B7%9D%E5%8C%BA%E5%8D%97%E5%8D%83%E4%BD%8F%EF%BC%98%E4%B8%81%E7%9B%AE%EF%BC%94-%EF%BC%95&bounds=&components=&region=&language=\n",
      "2021-06-19 16:42:49.312 INFO    geocoder.base: Requested https://maps.googleapis.com/maps/api/geocode/json?address=%E6%9D%B1%E4%BA%AC%E9%83%BD%E6%98%AD%E5%B3%B6%E5%B8%82%E7%94%B0%E4%B8%AD%E7%94%BA562%EF%BC%8D1&bounds=&components=&region=&language=\n",
      "2021-06-19 16:42:49.475 INFO    geocoder.base: Requested https://maps.googleapis.com/maps/api/geocode/json?address=%E6%9D%B1%E4%BA%AC%E9%83%BD%E6%B8%AF%E5%8C%BA%E8%8A%9D5-29-2+%E3%80%80%E4%B8%89%E5%96%84%E3%83%93%E3%83%AB2+F&bounds=&components=&region=&language=\n",
      "2021-06-19 16:42:49.607 INFO    geocoder.base: Requested https://maps.googleapis.com/maps/api/geocode/json?address=%E6%9D%B1%E4%BA%AC%E9%83%BD%E6%9D%B1%E5%A4%A7%E5%92%8C%E5%B8%82%E5%8D%97%E8%A1%974-18-6&bounds=&components=&region=&language=\n",
      "2021-06-19 16:42:49.743 INFO    geocoder.base: Requested https://maps.googleapis.com/maps/api/geocode/json?address=%E6%9D%B1%E4%BA%AC%E9%83%BD%E5%93%81%E5%B7%9D%E5%8C%BA%E8%8D%8F%E5%8E%9F3-8-4+%E3%80%80%E3%83%A8%E3%83%AD%E3%83%85%E3%83%A4%E5%BA%97%E8%88%971+F&bounds=&components=&region=&language=\n",
      "2021-06-19 16:42:49.891 INFO    geocoder.base: Requested https://maps.googleapis.com/maps/api/geocode/json?address=%E6%9D%B1%E4%BA%AC%E9%83%BD%E6%B1%9F%E6%9D%B1%E5%8C%BA%E8%B1%8A%E6%B4%B2%EF%BC%93%EF%BC%8D%EF%BC%94%EF%BC%8D%EF%BC%98+%E3%82%B9-%E3%83%91-%E3%83%93%E3%83%90%E3%83%9B-%E3%83%A0%EF%BC%92+%E9%9A%8E&bounds=&components=&region=&language=\n",
      "2021-06-19 16:42:50.052 INFO    geocoder.base: Requested https://maps.googleapis.com/maps/api/geocode/json?address=%E6%9D%B1%E4%BA%AC%E9%83%BD%E7%B7%B4%E9%A6%AC%E5%8C%BA%E4%B8%8A%E7%9F%B3%E7%A5%9E%E4%BA%951-13-5&bounds=&components=&region=&language=\n",
      "2021-06-19 16:42:50.172 INFO    geocoder.base: Requested https://maps.googleapis.com/maps/api/geocode/json?address=%E6%9D%B1%E4%BA%AC%E9%83%BD%E6%9D%89%E4%B8%A6%E5%8C%BA%E4%B8%8A%E9%AB%98%E4%BA%95%E6%88%B81-5-17+%E3%80%80%E3%82%A8%E3%83%B3%E3%83%88%E3%83%94%E3%82%A2%E3%83%93%E3%83%AB101&bounds=&components=&region=&language=\n",
      "2021-06-19 16:42:50.324 INFO    geocoder.base: Requested https://maps.googleapis.com/maps/api/geocode/json?address=%E6%9D%B1%E4%BA%AC%E9%83%BD%E6%AD%A6%E8%94%B5%E9%87%8E%E5%B8%82%E5%90%89%E7%A5%A5%E5%AF%BA%E6%9D%B1%E7%94%BA1-2-2+%E3%82%AA%E3%83%AA%E3%82%A8%E3%83%B3%E3%83%88%E3%83%97%E3%83%A9%E3%82%B6%E4%B8%B9%E9%87%8E&bounds=&components=&region=&language=\n",
      "2021-06-19 16:42:50.458 INFO    geocoder.base: Requested https://maps.googleapis.com/maps/api/geocode/json?address=%E6%9D%B1%E4%BA%AC%E9%83%BD%E4%B8%96%E7%94%B0%E8%B0%B7%E5%8C%BA%E8%88%B9%E6%A9%8B5-35-1&bounds=&components=&region=&language=\n",
      "2021-06-19 16:42:50.589 INFO    geocoder.base: Requested https://maps.googleapis.com/maps/api/geocode/json?address=%E6%9D%B1%E4%BA%AC%E9%83%BD%E4%B8%AD%E5%A4%AE%E5%8C%BA%E6%97%A5%E6%9C%AC%E6%A9%8B%E8%9B%8E%E6%AE%BB%E7%94%BA1-39-7-103&bounds=&components=&region=&language=\n",
      "2021-06-19 16:42:50.742 INFO    geocoder.base: Requested https://maps.googleapis.com/maps/api/geocode/json?address=%E6%9D%B1%E4%BA%AC%E9%83%BD%E7%9B%AE%E9%BB%92%E5%8C%BA%E5%8E%9F%E7%94%BA1-4-5&bounds=&components=&region=&language=\n",
      "2021-06-19 16:42:50.894 INFO    geocoder.base: Requested https://maps.googleapis.com/maps/api/geocode/json?address=%E6%9D%B1%E4%BA%AC%E9%83%BD%E5%8D%83%E4%BB%A3%E7%94%B0%E5%8C%BA%E6%9C%89%E6%A5%BD%E7%94%BA2-9&bounds=&components=&region=&language=\n",
      "2021-06-19 16:42:51.038 INFO    geocoder.base: Requested https://maps.googleapis.com/maps/api/geocode/json?address=%E6%9D%B1%E4%BA%AC%E9%83%BD%E5%A4%A7%E7%94%B0%E5%8C%BA%E8%A5%BF%E7%B3%80%E8%B0%B71-12-10&bounds=&components=&region=&language=\n",
      "2021-06-19 16:42:51.190 INFO    geocoder.base: Requested https://maps.googleapis.com/maps/api/geocode/json?address=%E6%9D%B1%E4%BA%AC%E9%83%BD%E5%A4%A7%E7%94%B0%E5%8C%BA%E7%9F%A2%E5%8F%A31-7-14++%E9%95%B7%E6%B5%9C%E3%83%93%E3%83%AB%E3%80%802+%E9%9A%8E&bounds=&components=&region=&language=\n",
      "2021-06-19 16:42:51.340 INFO    geocoder.base: Requested https://maps.googleapis.com/maps/api/geocode/json?address=%E6%9D%B1%E4%BA%AC%E9%83%BD%E7%AB%8B%E5%B7%9D%E5%B8%82%E6%9B%99%E7%94%BA2-11-2+%E3%83%95%E3%83%AD%E3%83%A0%E4%B8%AD%E6%AD%A65+F&bounds=&components=&region=&language=\n",
      "2021-06-19 16:42:51.494 INFO    geocoder.base: Requested https://maps.googleapis.com/maps/api/geocode/json?address=%E6%9D%B1%E4%BA%AC%E9%83%BD%E4%B8%AD%E9%87%8E%E5%8C%BA%E6%9C%AC%E7%94%BA4-30-25-B1&bounds=&components=&region=&language=\n",
      "2021-06-19 16:42:51.647 INFO    geocoder.base: Requested https://maps.googleapis.com/maps/api/geocode/json?address=%E6%9D%B1%E4%BA%AC%E9%83%BD%E6%96%B0%E5%AE%BF%E5%8C%BA%E8%A5%BF%E6%96%B0%E5%AE%BF7-16-1&bounds=&components=&region=&language=\n",
      "2021-06-19 16:42:51.789 INFO    geocoder.base: Requested https://maps.googleapis.com/maps/api/geocode/json?address=%E6%9D%B1%E4%BA%AC%E9%83%BD%E5%8D%83%E4%BB%A3%E7%94%B0%E5%8C%BA%E4%B8%89%E7%95%AA%E7%94%BA18-5&bounds=&components=&region=&language=\n",
      "2021-06-19 16:42:51.943 INFO    geocoder.base: Requested https://maps.googleapis.com/maps/api/geocode/json?address=%E6%9D%B1%E4%BA%AC%E9%83%BD%E8%AA%BF%E5%B8%83%E5%B8%82%E5%9B%BD%E9%A0%98%E7%94%BA4-51-5&bounds=&components=&region=&language=\n",
      "2021-06-19 16:42:52.093 INFO    geocoder.base: Requested https://maps.googleapis.com/maps/api/geocode/json?address=%E6%9D%B1%E4%BA%AC%E9%83%BD%E5%A4%A7%E7%94%B0%E5%8C%BA%E7%BE%BD%E7%94%B03-5-2&bounds=&components=&region=&language=\n",
      "2021-06-19 16:42:52.266 INFO    geocoder.base: Requested https://maps.googleapis.com/maps/api/geocode/json?address=%E6%9D%B1%E4%BA%AC%E9%83%BD%E5%8D%83%E4%BB%A3%E7%94%B0%E5%8C%BA%E5%A4%96%E7%A5%9E%E7%94%B04-14-1+%E7%A7%8B%E8%91%89%E5%8E%9FUDX%E3%83%93%E3%83%AB3+F&bounds=&components=&region=&language=\n",
      "2021-06-19 16:42:52.405 INFO    geocoder.base: Requested https://maps.googleapis.com/maps/api/geocode/json?address=%E6%9D%B1%E4%BA%AC%E9%83%BD%E5%8F%B0%E6%9D%B1%E5%8C%BA%E4%B8%8A%E9%87%8E5-9-9+%E3%80%802+K540+%E3%80%80F-1&bounds=&components=&region=&language=\n",
      "2021-06-19 16:42:52.558 INFO    geocoder.base: Requested https://maps.googleapis.com/maps/api/geocode/json?address=%E6%9D%B1%E4%BA%AC%E9%83%BD%E6%96%B0%E5%AE%BF%E5%8C%BA%E6%AD%8C%E8%88%9E%E4%BC%8E%E7%94%BA+1-30-1+%E3%80%80%E8%A5%BF%E6%AD%A6%E6%96%B0%E5%AE%BF%E3%83%9A%E3%83%9A2+%E9%9A%8E&bounds=&components=&region=&language=\n",
      "2021-06-19 16:42:52.703 INFO    geocoder.base: Requested https://maps.googleapis.com/maps/api/geocode/json?address=%E6%9D%B1%E4%BA%AC%E9%83%BD%E6%B8%AF%E5%8C%BA%E7%99%BD%E9%87%91%E5%8F%B0%EF%BC%95%EF%BC%8D%EF%BC%91%EF%BC%95%EF%BC%8D%EF%BC%95+%E3%80%80%EF%BC%93+F&bounds=&components=&region=&language=\n",
      "2021-06-19 16:42:52.837 INFO    geocoder.base: Requested https://maps.googleapis.com/maps/api/geocode/json?address=%E6%9D%B1%E4%BA%AC%E9%83%BD%E5%85%AB%E7%8E%8B%E5%AD%90%E5%B8%82%E6%A8%AA%E5%B7%9D%E7%94%BA760-2&bounds=&components=&region=&language=\n",
      "2021-06-19 16:42:52.976 INFO    geocoder.base: Requested https://maps.googleapis.com/maps/api/geocode/json?address=%E6%9D%B1%E4%BA%AC%E9%83%BD%E6%B8%8B%E8%B0%B7%E5%8C%BA%E6%B8%8B%E8%B0%B73-18-7+%E3%80%80%E7%AA%AA%E5%B3%B6%E3%83%93%E3%83%AB%E5%9C%B0%E4%B8%8B1+%E9%9A%8E&bounds=&components=&region=&language=\n",
      "2021-06-19 16:42:53.132 INFO    geocoder.base: Requested https://maps.googleapis.com/maps/api/geocode/json?address=%E6%9D%B1%E4%BA%AC%E9%83%BD%E6%96%87%E4%BA%AC%E5%8C%BA%E7%99%BD%E5%B1%B11-14-10&bounds=&components=&region=&language=\n",
      "2021-06-19 16:42:53.278 INFO    geocoder.base: Requested https://maps.googleapis.com/maps/api/geocode/json?address=%E6%9D%B1%E4%BA%AC%E9%83%BD%E6%B8%AF%E5%8C%BA%E6%96%B0%E6%A9%8B2-8-16+%E3%80%80%E7%9F%B3%E7%94%B0%E3%83%93%E3%83%AB%E5%9C%B0%E4%B8%8B%EF%BC%91+%E9%9A%8E&bounds=&components=&region=&language=\n",
      "2021-06-19 16:42:53.452 INFO    geocoder.base: Requested https://maps.googleapis.com/maps/api/geocode/json?address=%E6%9D%B1%E4%BA%AC%E9%83%BD%E8%A5%BF%E6%9D%B1%E4%BA%AC%E5%B8%82%E5%8D%97%E7%94%BA1-3-10&bounds=&components=&region=&language=\n",
      "2021-06-19 16:42:53.578 INFO    geocoder.base: Requested https://maps.googleapis.com/maps/api/geocode/json?address=%E6%9D%B1%E4%BA%AC%E9%83%BD%E6%96%87%E4%BA%AC%E5%8C%BA%E6%98%A5%E6%97%A51-1-1+%E6%9D%B1%E4%BA%AC%E3%83%89-%E3%83%A0%E3%82%B7%E3%83%86%E3%82%A3%E3%82%B9%E3%83%91%E3%83%A9%E3%82%AF-%E3%82%A25+%E9%9A%8E&bounds=&components=&region=&language=\n",
      "2021-06-19 16:42:53.737 INFO    geocoder.base: Requested https://maps.googleapis.com/maps/api/geocode/json?address=%E6%9D%B1%E4%BA%AC%E9%83%BD%E4%B8%96%E7%94%B0%E8%B0%B7%E5%8C%BA%E6%96%B0%E7%94%BA3-20-1++%E3%83%B4%E3%82%A7%E3%83%AB%E3%82%B8%E3%82%A7%E6%A1%9C%E6%96%B0%E7%94%BA2+F&bounds=&components=&region=&language=\n",
      "2021-06-19 16:42:53.873 INFO    geocoder.base: Requested https://maps.googleapis.com/maps/api/geocode/json?address=%E6%9D%B1%E4%BA%AC%E9%83%BD%E7%AB%8B%E5%B7%9D%E5%B8%82%E9%AB%98%E6%9D%BE%E7%94%BA3-13-1+%E3%82%B6%E3%83%B3%E3%83%91-%E3%82%BF101&bounds=&components=&region=&language=\n",
      "2021-06-19 16:42:53.998 INFO    geocoder.base: Requested https://maps.googleapis.com/maps/api/geocode/json?address=%E6%9D%B1%E4%BA%AC%E9%83%BD%E5%A4%A7%E7%94%B0%E5%8C%BA%E5%A4%A7%E6%A3%AE%E5%8C%974%EF%BC%8D12%EF%BC%8D22&bounds=&components=&region=&language=\n",
      "2021-06-19 16:42:54.155 INFO    geocoder.base: Requested https://maps.googleapis.com/maps/api/geocode/json?address=%E6%9D%B1%E4%BA%AC%E9%83%BD%E7%A8%B2%E5%9F%8E%E5%B8%82%E5%A4%A7%E4%B8%B8640-12&bounds=&components=&region=&language=\n",
      "2021-06-19 16:42:54.309 INFO    geocoder.base: Requested https://maps.googleapis.com/maps/api/geocode/json?address=%E6%9D%B1%E4%BA%AC%E9%83%BD%E4%B8%AD%E9%87%8E%E5%8C%BA%E4%B8%AD%E9%87%8E%EF%BC%95%EF%BC%8D%EF%BC%94%EF%BC%99%EF%BC%8D%EF%BC%97%EF%BC%8D%EF%BC%92+%EF%BC%A6&bounds=&components=&region=&language=\n",
      "2021-06-19 16:42:54.467 INFO    geocoder.base: Requested https://maps.googleapis.com/maps/api/geocode/json?address=%E6%9D%B1%E4%BA%AC%E9%83%BD%E7%94%BA%E7%94%B0%E5%B8%82%E5%8E%9F%E7%94%BA%E7%94%B06-27-16&bounds=&components=&region=&language=\n",
      "2021-06-19 16:42:54.616 INFO    geocoder.base: Requested https://maps.googleapis.com/maps/api/geocode/json?address=%E6%9D%B1%E4%BA%AC%E9%83%BD%E6%B8%AF%E5%8C%BA%E8%99%8E%E3%83%8E%E9%96%802-10-4&bounds=&components=&region=&language=\n",
      "2021-06-19 16:42:54.759 INFO    geocoder.base: Requested https://maps.googleapis.com/maps/api/geocode/json?address=%E6%9D%B1%E4%BA%AC%E9%83%BD%E6%B8%AF%E5%8C%BA%E8%A5%BF%E9%BA%BB%E5%B8%83%EF%BC%92%EF%BC%8D%EF%BC%91%EF%BC%93%EF%BC%8D%EF%BC%96&bounds=&components=&region=&language=\n",
      "2021-06-19 16:42:54.903 INFO    geocoder.base: Requested https://maps.googleapis.com/maps/api/geocode/json?address=%E6%9D%B1%E4%BA%AC%E9%83%BD%E6%9D%89%E4%B8%A6%E5%8C%BA%E4%B8%8A%E8%8D%BB%EF%BC%91-%EF%BC%97-%EF%BC%91+%E3%80%80%E3%83%AB%E3%83%9F%E3%83%8D%E8%8D%BB%E7%AA%AA%E5%BA%97%E3%80%80%EF%BC%95+%E9%9A%8E&bounds=&components=&region=&language=\n",
      "2021-06-19 16:42:55.050 INFO    geocoder.base: Requested https://maps.googleapis.com/maps/api/geocode/json?address=%E6%9D%B1%E4%BA%AC%E9%83%BD%E5%A4%A7%E7%94%B0%E5%8C%BA%E5%8D%97%E9%9B%AA%E8%B0%B7+2-11-24&bounds=&components=&region=&language=\n",
      "2021-06-19 16:42:55.199 INFO    geocoder.base: Requested https://maps.googleapis.com/maps/api/geocode/json?address=%E6%9D%B1%E4%BA%AC%E9%83%BD%E5%8D%83%E4%BB%A3%E7%94%B0%E5%8C%BA%E5%9B%9B%E7%95%AA%E7%94%BA%EF%BC%94%EF%BC%8D%EF%BC%91%EF%BC%93+%E3%80%80I%E3%83%BBS%E5%9B%9B%E7%95%AA%E7%94%BA%E3%83%93%E3%83%AB%E3%80%80%EF%BC%96+%E9%9A%8E&bounds=&components=&region=&language=\n",
      "2021-06-19 16:42:55.351 INFO    geocoder.base: Requested https://maps.googleapis.com/maps/api/geocode/json?address=%E6%9D%B1%E4%BA%AC%E9%83%BD%E5%85%AB%E7%8E%8B%E5%AD%90%E5%B8%82%E6%97%AD%E7%94%BA9%E7%95%AA1%E5%8F%B7%E3%80%80%E5%85%AB%E7%8E%8B%E5%AD%90%E3%82%AA%E3%82%AF%E3%83%88-%E3%83%AC%E3%80%805+%EF%BC%A6&bounds=&components=&region=&language=\n",
      "2021-06-19 16:42:55.479 INFO    geocoder.base: Requested https://maps.googleapis.com/maps/api/geocode/json?address=%E6%9D%B1%E4%BA%AC%E9%83%BD%E5%9B%BD%E5%88%86%E5%AF%BA%E5%B8%82%E5%8D%97%E7%94%BA3%EF%BC%8D2%EF%BC%8D21&bounds=&components=&region=&language=\n",
      "2021-06-19 16:42:55.650 INFO    geocoder.base: Requested https://maps.googleapis.com/maps/api/geocode/json?address=%E6%9D%B1%E4%BA%AC%E9%83%BD%E4%B8%AD%E5%A4%AE%E5%8C%BA%E9%8A%80%E5%BA%A77-6-19+%E3%82%BD%E3%83%AF%E3%83%AC%E3%83%89%E9%8A%80%E5%BA%A7%E5%BC%A5%E7%94%9F%E3%83%93%E3%83%AB4+%E9%9A%8E&bounds=&components=&region=&language=\n",
      "2021-06-19 16:42:55.805 INFO    geocoder.base: Requested https://maps.googleapis.com/maps/api/geocode/json?address=%E6%9D%B1%E4%BA%AC%E9%83%BD%E6%9D%BF%E6%A9%8B%E5%8C%BA%E5%BF%97%E6%9D%91%EF%BC%91%EF%BC%8D%EF%BC%93%EF%BC%94%EF%BC%8D%EF%BC%91%EF%BC%96%EF%BC%8D%EF%BC%91+%EF%BC%A6%E3%82%B7%E3%83%A3%E3%83%88%E3%83%AB%E5%9D%82%E4%B8%8A&bounds=&components=&region=&language=\n",
      "2021-06-19 16:42:55.952 INFO    geocoder.base: Requested https://maps.googleapis.com/maps/api/geocode/json?address=%E6%9D%B1%E4%BA%AC%E9%83%BD%E8%B1%8A%E5%B3%B6%E5%8C%BA%E9%AB%98%E7%94%B03%EF%BC%8D10%EF%BC%8D24&bounds=&components=&region=&language=\n",
      "2021-06-19 16:42:56.121 INFO    geocoder.base: Requested https://maps.googleapis.com/maps/api/geocode/json?address=%E6%9D%B1%E4%BA%AC%E9%83%BD%E8%91%9B%E9%A3%BE%E5%8C%BA%E6%9D%B1%E6%96%B0%E5%B0%8F%E5%B2%A91-14-5&bounds=&components=&region=&language=\n",
      "2021-06-19 16:42:56.266 INFO    geocoder.base: Requested https://maps.googleapis.com/maps/api/geocode/json?address=%E6%9D%B1%E4%BA%AC%E9%83%BD%E8%91%9B%E9%A3%BE%E5%8C%BA%E6%9F%B4%E5%8F%887-1-17&bounds=&components=&region=&language=\n",
      "2021-06-19 16:42:56.429 INFO    geocoder.base: Requested https://maps.googleapis.com/maps/api/geocode/json?address=%E6%9D%B1%E4%BA%AC%E9%83%BD%E7%AB%8B%E5%B7%9D%E5%B8%82%E6%B3%89%E7%94%BA935-1+%E3%80%80%E3%82%89%E3%82%89%E3%81%BD-%E3%81%A8%E7%AB%8B%E5%B7%9D%E7%AB%8B%E9%A3%9B%E3%80%80%EF%BC%93+F%E3%80%8032900&bounds=&components=&region=&language=\n"
     ]
    },
    {
     "ename": "KeyboardInterrupt",
     "evalue": "",
     "output_type": "error",
     "traceback": [
      "\u001b[1;31m---------------------------------------------------------------------------\u001b[0m",
      "\u001b[1;31mKeyboardInterrupt\u001b[0m                         Traceback (most recent call last)",
      "\u001b[1;32m<ipython-input-6-17ed9273df39>\u001b[0m in \u001b[0;36m<module>\u001b[1;34m\u001b[0m\n\u001b[0;32m      7\u001b[0m     \u001b[1;32mreturn\u001b[0m \u001b[0mlatlon\u001b[0m\u001b[1;33m\u001b[0m\u001b[1;33m\u001b[0m\u001b[0m\n\u001b[0;32m      8\u001b[0m \u001b[1;33m\u001b[0m\u001b[0m\n\u001b[1;32m----> 9\u001b[1;33m \u001b[0mp\u001b[0m \u001b[1;33m=\u001b[0m \u001b[0mgeoadress\u001b[0m\u001b[1;33m(\u001b[0m\u001b[0mshop_adress\u001b[0m\u001b[1;33m)\u001b[0m\u001b[1;33m\u001b[0m\u001b[1;33m\u001b[0m\u001b[0m\n\u001b[0m\u001b[0;32m     10\u001b[0m \u001b[0mprint\u001b[0m\u001b[1;33m(\u001b[0m\u001b[0mp\u001b[0m\u001b[1;33m.\u001b[0m\u001b[0mlatlng\u001b[0m\u001b[1;33m)\u001b[0m\u001b[1;33m\u001b[0m\u001b[1;33m\u001b[0m\u001b[0m\n",
      "\u001b[1;32m<ipython-input-6-17ed9273df39>\u001b[0m in \u001b[0;36mgeoadress\u001b[1;34m(shop_adress)\u001b[0m\n\u001b[0;32m      2\u001b[0m     \u001b[0mlatlon\u001b[0m \u001b[1;33m=\u001b[0m \u001b[1;33m[\u001b[0m\u001b[1;33m]\u001b[0m\u001b[1;33m\u001b[0m\u001b[1;33m\u001b[0m\u001b[0m\n\u001b[0;32m      3\u001b[0m     \u001b[1;32mfor\u001b[0m \u001b[0madress\u001b[0m \u001b[1;32min\u001b[0m \u001b[0mshop_adress\u001b[0m\u001b[1;33m:\u001b[0m\u001b[1;33m\u001b[0m\u001b[1;33m\u001b[0m\u001b[0m\n\u001b[1;32m----> 4\u001b[1;33m         \u001b[0mgeo\u001b[0m \u001b[1;33m=\u001b[0m \u001b[0mgeocoder\u001b[0m\u001b[1;33m.\u001b[0m\u001b[0mgoogle\u001b[0m\u001b[1;33m(\u001b[0m\u001b[0madress\u001b[0m\u001b[1;33m)\u001b[0m\u001b[1;33m\u001b[0m\u001b[1;33m\u001b[0m\u001b[0m\n\u001b[0m\u001b[0;32m      5\u001b[0m         \u001b[0mlatlon\u001b[0m\u001b[1;33m.\u001b[0m\u001b[0mappend\u001b[0m\u001b[1;33m(\u001b[0m\u001b[0mgeo\u001b[0m\u001b[1;33m)\u001b[0m\u001b[1;33m\u001b[0m\u001b[1;33m\u001b[0m\u001b[0m\n\u001b[0;32m      6\u001b[0m \u001b[1;33m\u001b[0m\u001b[0m\n",
      "\u001b[1;32m~\\anaconda3\\envs\\web_app\\lib\\site-packages\\geocoder\\api.py\u001b[0m in \u001b[0;36mgoogle\u001b[1;34m(location, **kwargs)\u001b[0m\n\u001b[0;32m    230\u001b[0m         \u001b[1;33m>\u001b[0m \u001b[0melevation\u001b[0m\u001b[1;33m\u001b[0m\u001b[1;33m\u001b[0m\u001b[0m\n\u001b[0;32m    231\u001b[0m     \"\"\"\n\u001b[1;32m--> 232\u001b[1;33m     \u001b[1;32mreturn\u001b[0m \u001b[0mget\u001b[0m\u001b[1;33m(\u001b[0m\u001b[0mlocation\u001b[0m\u001b[1;33m,\u001b[0m \u001b[0mprovider\u001b[0m\u001b[1;33m=\u001b[0m\u001b[1;34m'google'\u001b[0m\u001b[1;33m,\u001b[0m \u001b[1;33m**\u001b[0m\u001b[0mkwargs\u001b[0m\u001b[1;33m)\u001b[0m\u001b[1;33m\u001b[0m\u001b[1;33m\u001b[0m\u001b[0m\n\u001b[0m\u001b[0;32m    233\u001b[0m \u001b[1;33m\u001b[0m\u001b[0m\n\u001b[0;32m    234\u001b[0m \u001b[1;33m\u001b[0m\u001b[0m\n",
      "\u001b[1;32m~\\anaconda3\\envs\\web_app\\lib\\site-packages\\geocoder\\api.py\u001b[0m in \u001b[0;36mget\u001b[1;34m(location, **kwargs)\u001b[0m\n\u001b[0;32m    196\u001b[0m         \u001b[1;32mif\u001b[0m \u001b[0mmethod\u001b[0m \u001b[1;32mnot\u001b[0m \u001b[1;32min\u001b[0m \u001b[0moptions\u001b[0m\u001b[1;33m[\u001b[0m\u001b[0mprovider\u001b[0m\u001b[1;33m]\u001b[0m\u001b[1;33m:\u001b[0m\u001b[1;33m\u001b[0m\u001b[1;33m\u001b[0m\u001b[0m\n\u001b[0;32m    197\u001b[0m             \u001b[1;32mraise\u001b[0m \u001b[0mValueError\u001b[0m\u001b[1;33m(\u001b[0m\u001b[1;34m\"Invalid method\"\u001b[0m\u001b[1;33m)\u001b[0m\u001b[1;33m\u001b[0m\u001b[1;33m\u001b[0m\u001b[0m\n\u001b[1;32m--> 198\u001b[1;33m     \u001b[1;32mreturn\u001b[0m \u001b[0moptions\u001b[0m\u001b[1;33m[\u001b[0m\u001b[0mprovider\u001b[0m\u001b[1;33m]\u001b[0m\u001b[1;33m[\u001b[0m\u001b[0mmethod\u001b[0m\u001b[1;33m]\u001b[0m\u001b[1;33m(\u001b[0m\u001b[0mlocation\u001b[0m\u001b[1;33m,\u001b[0m \u001b[1;33m**\u001b[0m\u001b[0mkwargs\u001b[0m\u001b[1;33m)\u001b[0m\u001b[1;33m\u001b[0m\u001b[1;33m\u001b[0m\u001b[0m\n\u001b[0m\u001b[0;32m    199\u001b[0m \u001b[1;33m\u001b[0m\u001b[0m\n\u001b[0;32m    200\u001b[0m \u001b[1;33m\u001b[0m\u001b[0m\n",
      "\u001b[1;32m~\\anaconda3\\envs\\web_app\\lib\\site-packages\\geocoder\\base.py\u001b[0m in \u001b[0;36m__init__\u001b[1;34m(self, location, **kwargs)\u001b[0m\n\u001b[0;32m    408\u001b[0m \u001b[1;33m\u001b[0m\u001b[0m\n\u001b[0;32m    409\u001b[0m         \u001b[1;31m# query and parse results\u001b[0m\u001b[1;33m\u001b[0m\u001b[1;33m\u001b[0m\u001b[1;33m\u001b[0m\u001b[0m\n\u001b[1;32m--> 410\u001b[1;33m         \u001b[0mself\u001b[0m\u001b[1;33m.\u001b[0m\u001b[0m_initialize\u001b[0m\u001b[1;33m(\u001b[0m\u001b[1;33m)\u001b[0m\u001b[1;33m\u001b[0m\u001b[1;33m\u001b[0m\u001b[0m\n\u001b[0m\u001b[0;32m    411\u001b[0m \u001b[1;33m\u001b[0m\u001b[0m\n\u001b[0;32m    412\u001b[0m     \u001b[1;32mdef\u001b[0m \u001b[0m__getitem__\u001b[0m\u001b[1;33m(\u001b[0m\u001b[0mself\u001b[0m\u001b[1;33m,\u001b[0m \u001b[0mkey\u001b[0m\u001b[1;33m)\u001b[0m\u001b[1;33m:\u001b[0m\u001b[1;33m\u001b[0m\u001b[1;33m\u001b[0m\u001b[0m\n",
      "\u001b[1;32m~\\anaconda3\\envs\\web_app\\lib\\site-packages\\geocoder\\base.py\u001b[0m in \u001b[0;36m_initialize\u001b[1;34m(self)\u001b[0m\n\u001b[0;32m    455\u001b[0m     \u001b[1;32mdef\u001b[0m \u001b[0m_initialize\u001b[0m\u001b[1;33m(\u001b[0m\u001b[0mself\u001b[0m\u001b[1;33m)\u001b[0m\u001b[1;33m:\u001b[0m\u001b[1;33m\u001b[0m\u001b[1;33m\u001b[0m\u001b[0m\n\u001b[0;32m    456\u001b[0m         \u001b[1;31m# query URL and get valid JSON (also stored in self.json)\u001b[0m\u001b[1;33m\u001b[0m\u001b[1;33m\u001b[0m\u001b[1;33m\u001b[0m\u001b[0m\n\u001b[1;32m--> 457\u001b[1;33m         \u001b[0mjson_response\u001b[0m \u001b[1;33m=\u001b[0m \u001b[0mself\u001b[0m\u001b[1;33m.\u001b[0m\u001b[0m_connect\u001b[0m\u001b[1;33m(\u001b[0m\u001b[1;33m)\u001b[0m\u001b[1;33m\u001b[0m\u001b[1;33m\u001b[0m\u001b[0m\n\u001b[0m\u001b[0;32m    458\u001b[0m \u001b[1;33m\u001b[0m\u001b[0m\n\u001b[0;32m    459\u001b[0m         \u001b[1;31m# catch errors\u001b[0m\u001b[1;33m\u001b[0m\u001b[1;33m\u001b[0m\u001b[1;33m\u001b[0m\u001b[0m\n",
      "\u001b[1;32m~\\anaconda3\\envs\\web_app\\lib\\site-packages\\geocoder\\base.py\u001b[0m in \u001b[0;36m_connect\u001b[1;34m(self)\u001b[0m\n\u001b[0;32m    477\u001b[0m         \u001b[1;32mtry\u001b[0m\u001b[1;33m:\u001b[0m\u001b[1;33m\u001b[0m\u001b[1;33m\u001b[0m\u001b[0m\n\u001b[0;32m    478\u001b[0m             \u001b[1;31m# make request and get response\u001b[0m\u001b[1;33m\u001b[0m\u001b[1;33m\u001b[0m\u001b[1;33m\u001b[0m\u001b[0m\n\u001b[1;32m--> 479\u001b[1;33m             self.response = response = self.rate_limited_get(\n\u001b[0m\u001b[0;32m    480\u001b[0m                 \u001b[0mself\u001b[0m\u001b[1;33m.\u001b[0m\u001b[0murl\u001b[0m\u001b[1;33m,\u001b[0m\u001b[1;33m\u001b[0m\u001b[1;33m\u001b[0m\u001b[0m\n\u001b[0;32m    481\u001b[0m                 \u001b[0mparams\u001b[0m\u001b[1;33m=\u001b[0m\u001b[0mself\u001b[0m\u001b[1;33m.\u001b[0m\u001b[0mparams\u001b[0m\u001b[1;33m,\u001b[0m\u001b[1;33m\u001b[0m\u001b[1;33m\u001b[0m\u001b[0m\n",
      "\u001b[1;32m~\\anaconda3\\envs\\web_app\\lib\\site-packages\\geocoder\\google.py\u001b[0m in \u001b[0;36mrate_limited_get\u001b[1;34m(self, *args, **kwargs)\u001b[0m\n\u001b[0;32m    267\u001b[0m             \u001b[1;32mreturn\u001b[0m \u001b[0mself\u001b[0m\u001b[1;33m.\u001b[0m\u001b[0mrate_limited_get_for_work\u001b[0m\u001b[1;33m(\u001b[0m\u001b[1;33m*\u001b[0m\u001b[0margs\u001b[0m\u001b[1;33m,\u001b[0m \u001b[1;33m**\u001b[0m\u001b[0mkwargs\u001b[0m\u001b[1;33m)\u001b[0m\u001b[1;33m\u001b[0m\u001b[1;33m\u001b[0m\u001b[0m\n\u001b[0;32m    268\u001b[0m         \u001b[1;32melse\u001b[0m\u001b[1;33m:\u001b[0m\u001b[1;33m\u001b[0m\u001b[1;33m\u001b[0m\u001b[0m\n\u001b[1;32m--> 269\u001b[1;33m             \u001b[1;32mreturn\u001b[0m \u001b[0mself\u001b[0m\u001b[1;33m.\u001b[0m\u001b[0mrate_limited_get_for_dev\u001b[0m\u001b[1;33m(\u001b[0m\u001b[1;33m*\u001b[0m\u001b[0margs\u001b[0m\u001b[1;33m,\u001b[0m \u001b[1;33m**\u001b[0m\u001b[0mkwargs\u001b[0m\u001b[1;33m)\u001b[0m\u001b[1;33m\u001b[0m\u001b[1;33m\u001b[0m\u001b[0m\n\u001b[0m\u001b[0;32m    270\u001b[0m \u001b[1;33m\u001b[0m\u001b[0m\n\u001b[0;32m    271\u001b[0m     \u001b[1;33m@\u001b[0m\u001b[0mratelim\u001b[0m\u001b[1;33m.\u001b[0m\u001b[0mgreedy\u001b[0m\u001b[1;33m(\u001b[0m\u001b[1;36m2500\u001b[0m\u001b[1;33m,\u001b[0m \u001b[1;36m60\u001b[0m \u001b[1;33m*\u001b[0m \u001b[1;36m60\u001b[0m \u001b[1;33m*\u001b[0m \u001b[1;36m24\u001b[0m\u001b[1;33m)\u001b[0m\u001b[1;33m\u001b[0m\u001b[1;33m\u001b[0m\u001b[0m\n",
      "\u001b[1;32m~\\anaconda3\\envs\\web_app\\lib\\site-packages\\decorator.py\u001b[0m in \u001b[0;36mfun\u001b[1;34m(*args, **kw)\u001b[0m\n\u001b[0;32m    230\u001b[0m             \u001b[1;32mif\u001b[0m \u001b[1;32mnot\u001b[0m \u001b[0mkwsyntax\u001b[0m\u001b[1;33m:\u001b[0m\u001b[1;33m\u001b[0m\u001b[1;33m\u001b[0m\u001b[0m\n\u001b[0;32m    231\u001b[0m                 \u001b[0margs\u001b[0m\u001b[1;33m,\u001b[0m \u001b[0mkw\u001b[0m \u001b[1;33m=\u001b[0m \u001b[0mfix\u001b[0m\u001b[1;33m(\u001b[0m\u001b[0margs\u001b[0m\u001b[1;33m,\u001b[0m \u001b[0mkw\u001b[0m\u001b[1;33m,\u001b[0m \u001b[0msig\u001b[0m\u001b[1;33m)\u001b[0m\u001b[1;33m\u001b[0m\u001b[1;33m\u001b[0m\u001b[0m\n\u001b[1;32m--> 232\u001b[1;33m             \u001b[1;32mreturn\u001b[0m \u001b[0mcaller\u001b[0m\u001b[1;33m(\u001b[0m\u001b[0mfunc\u001b[0m\u001b[1;33m,\u001b[0m \u001b[1;33m*\u001b[0m\u001b[1;33m(\u001b[0m\u001b[0mextras\u001b[0m \u001b[1;33m+\u001b[0m \u001b[0margs\u001b[0m\u001b[1;33m)\u001b[0m\u001b[1;33m,\u001b[0m \u001b[1;33m**\u001b[0m\u001b[0mkw\u001b[0m\u001b[1;33m)\u001b[0m\u001b[1;33m\u001b[0m\u001b[1;33m\u001b[0m\u001b[0m\n\u001b[0m\u001b[0;32m    233\u001b[0m     \u001b[0mfun\u001b[0m\u001b[1;33m.\u001b[0m\u001b[0m__name__\u001b[0m \u001b[1;33m=\u001b[0m \u001b[0mfunc\u001b[0m\u001b[1;33m.\u001b[0m\u001b[0m__name__\u001b[0m\u001b[1;33m\u001b[0m\u001b[1;33m\u001b[0m\u001b[0m\n\u001b[0;32m    234\u001b[0m     \u001b[0mfun\u001b[0m\u001b[1;33m.\u001b[0m\u001b[0m__doc__\u001b[0m \u001b[1;33m=\u001b[0m \u001b[0mfunc\u001b[0m\u001b[1;33m.\u001b[0m\u001b[0m__doc__\u001b[0m\u001b[1;33m\u001b[0m\u001b[1;33m\u001b[0m\u001b[0m\n",
      "\u001b[1;32m~\\anaconda3\\envs\\web_app\\lib\\site-packages\\ratelim\\__init__.py\u001b[0m in \u001b[0;36mwrapped_f\u001b[1;34m(self, f, *args, **kwargs)\u001b[0m\n\u001b[0;32m     36\u001b[0m \u001b[1;33m\u001b[0m\u001b[0m\n\u001b[0;32m     37\u001b[0m         \u001b[0mself\u001b[0m\u001b[1;33m.\u001b[0m\u001b[0m__numcalls\u001b[0m \u001b[1;33m+=\u001b[0m \u001b[1;36m1\u001b[0m\u001b[1;33m\u001b[0m\u001b[1;33m\u001b[0m\u001b[0m\n\u001b[1;32m---> 38\u001b[1;33m         \u001b[1;32mreturn\u001b[0m \u001b[0mf\u001b[0m\u001b[1;33m(\u001b[0m\u001b[1;33m*\u001b[0m\u001b[0margs\u001b[0m\u001b[1;33m,\u001b[0m \u001b[1;33m**\u001b[0m\u001b[0mkwargs\u001b[0m\u001b[1;33m)\u001b[0m\u001b[1;33m\u001b[0m\u001b[1;33m\u001b[0m\u001b[0m\n\u001b[0m\u001b[0;32m     39\u001b[0m \u001b[1;33m\u001b[0m\u001b[0m\n\u001b[0;32m     40\u001b[0m     \u001b[1;32mdef\u001b[0m \u001b[0m__call__\u001b[0m\u001b[1;33m(\u001b[0m\u001b[0mself\u001b[0m\u001b[1;33m,\u001b[0m \u001b[0mf\u001b[0m\u001b[1;33m,\u001b[0m \u001b[1;33m*\u001b[0m\u001b[0margs\u001b[0m\u001b[1;33m,\u001b[0m \u001b[1;33m**\u001b[0m\u001b[0mkwargs\u001b[0m\u001b[1;33m)\u001b[0m\u001b[1;33m:\u001b[0m\u001b[1;33m\u001b[0m\u001b[1;33m\u001b[0m\u001b[0m\n",
      "\u001b[1;32m~\\anaconda3\\envs\\web_app\\lib\\site-packages\\decorator.py\u001b[0m in \u001b[0;36mfun\u001b[1;34m(*args, **kw)\u001b[0m\n\u001b[0;32m    230\u001b[0m             \u001b[1;32mif\u001b[0m \u001b[1;32mnot\u001b[0m \u001b[0mkwsyntax\u001b[0m\u001b[1;33m:\u001b[0m\u001b[1;33m\u001b[0m\u001b[1;33m\u001b[0m\u001b[0m\n\u001b[0;32m    231\u001b[0m                 \u001b[0margs\u001b[0m\u001b[1;33m,\u001b[0m \u001b[0mkw\u001b[0m \u001b[1;33m=\u001b[0m \u001b[0mfix\u001b[0m\u001b[1;33m(\u001b[0m\u001b[0margs\u001b[0m\u001b[1;33m,\u001b[0m \u001b[0mkw\u001b[0m\u001b[1;33m,\u001b[0m \u001b[0msig\u001b[0m\u001b[1;33m)\u001b[0m\u001b[1;33m\u001b[0m\u001b[1;33m\u001b[0m\u001b[0m\n\u001b[1;32m--> 232\u001b[1;33m             \u001b[1;32mreturn\u001b[0m \u001b[0mcaller\u001b[0m\u001b[1;33m(\u001b[0m\u001b[0mfunc\u001b[0m\u001b[1;33m,\u001b[0m \u001b[1;33m*\u001b[0m\u001b[1;33m(\u001b[0m\u001b[0mextras\u001b[0m \u001b[1;33m+\u001b[0m \u001b[0margs\u001b[0m\u001b[1;33m)\u001b[0m\u001b[1;33m,\u001b[0m \u001b[1;33m**\u001b[0m\u001b[0mkw\u001b[0m\u001b[1;33m)\u001b[0m\u001b[1;33m\u001b[0m\u001b[1;33m\u001b[0m\u001b[0m\n\u001b[0m\u001b[0;32m    233\u001b[0m     \u001b[0mfun\u001b[0m\u001b[1;33m.\u001b[0m\u001b[0m__name__\u001b[0m \u001b[1;33m=\u001b[0m \u001b[0mfunc\u001b[0m\u001b[1;33m.\u001b[0m\u001b[0m__name__\u001b[0m\u001b[1;33m\u001b[0m\u001b[1;33m\u001b[0m\u001b[0m\n\u001b[0;32m    234\u001b[0m     \u001b[0mfun\u001b[0m\u001b[1;33m.\u001b[0m\u001b[0m__doc__\u001b[0m \u001b[1;33m=\u001b[0m \u001b[0mfunc\u001b[0m\u001b[1;33m.\u001b[0m\u001b[0m__doc__\u001b[0m\u001b[1;33m\u001b[0m\u001b[1;33m\u001b[0m\u001b[0m\n",
      "\u001b[1;32m~\\anaconda3\\envs\\web_app\\lib\\site-packages\\ratelim\\__init__.py\u001b[0m in \u001b[0;36mwrapped_f\u001b[1;34m(self, f, *args, **kwargs)\u001b[0m\n\u001b[0;32m     36\u001b[0m \u001b[1;33m\u001b[0m\u001b[0m\n\u001b[0;32m     37\u001b[0m         \u001b[0mself\u001b[0m\u001b[1;33m.\u001b[0m\u001b[0m__numcalls\u001b[0m \u001b[1;33m+=\u001b[0m \u001b[1;36m1\u001b[0m\u001b[1;33m\u001b[0m\u001b[1;33m\u001b[0m\u001b[0m\n\u001b[1;32m---> 38\u001b[1;33m         \u001b[1;32mreturn\u001b[0m \u001b[0mf\u001b[0m\u001b[1;33m(\u001b[0m\u001b[1;33m*\u001b[0m\u001b[0margs\u001b[0m\u001b[1;33m,\u001b[0m \u001b[1;33m**\u001b[0m\u001b[0mkwargs\u001b[0m\u001b[1;33m)\u001b[0m\u001b[1;33m\u001b[0m\u001b[1;33m\u001b[0m\u001b[0m\n\u001b[0m\u001b[0;32m     39\u001b[0m \u001b[1;33m\u001b[0m\u001b[0m\n\u001b[0;32m     40\u001b[0m     \u001b[1;32mdef\u001b[0m \u001b[0m__call__\u001b[0m\u001b[1;33m(\u001b[0m\u001b[0mself\u001b[0m\u001b[1;33m,\u001b[0m \u001b[0mf\u001b[0m\u001b[1;33m,\u001b[0m \u001b[1;33m*\u001b[0m\u001b[0margs\u001b[0m\u001b[1;33m,\u001b[0m \u001b[1;33m**\u001b[0m\u001b[0mkwargs\u001b[0m\u001b[1;33m)\u001b[0m\u001b[1;33m:\u001b[0m\u001b[1;33m\u001b[0m\u001b[1;33m\u001b[0m\u001b[0m\n",
      "\u001b[1;32m~\\anaconda3\\envs\\web_app\\lib\\site-packages\\geocoder\\google.py\u001b[0m in \u001b[0;36mrate_limited_get_for_dev\u001b[1;34m(self, *args, **kwargs)\u001b[0m\n\u001b[0;32m    272\u001b[0m     \u001b[1;33m@\u001b[0m\u001b[0mratelim\u001b[0m\u001b[1;33m.\u001b[0m\u001b[0mgreedy\u001b[0m\u001b[1;33m(\u001b[0m\u001b[1;36m10\u001b[0m\u001b[1;33m,\u001b[0m \u001b[1;36m1\u001b[0m\u001b[1;33m)\u001b[0m\u001b[1;33m\u001b[0m\u001b[1;33m\u001b[0m\u001b[0m\n\u001b[0;32m    273\u001b[0m     \u001b[1;32mdef\u001b[0m \u001b[0mrate_limited_get_for_dev\u001b[0m\u001b[1;33m(\u001b[0m\u001b[0mself\u001b[0m\u001b[1;33m,\u001b[0m \u001b[1;33m*\u001b[0m\u001b[0margs\u001b[0m\u001b[1;33m,\u001b[0m \u001b[1;33m**\u001b[0m\u001b[0mkwargs\u001b[0m\u001b[1;33m)\u001b[0m\u001b[1;33m:\u001b[0m\u001b[1;33m\u001b[0m\u001b[1;33m\u001b[0m\u001b[0m\n\u001b[1;32m--> 274\u001b[1;33m         \u001b[1;32mreturn\u001b[0m \u001b[0msuper\u001b[0m\u001b[1;33m(\u001b[0m\u001b[0mGoogleQuery\u001b[0m\u001b[1;33m,\u001b[0m \u001b[0mself\u001b[0m\u001b[1;33m)\u001b[0m\u001b[1;33m.\u001b[0m\u001b[0mrate_limited_get\u001b[0m\u001b[1;33m(\u001b[0m\u001b[1;33m*\u001b[0m\u001b[0margs\u001b[0m\u001b[1;33m,\u001b[0m \u001b[1;33m**\u001b[0m\u001b[0mkwargs\u001b[0m\u001b[1;33m)\u001b[0m\u001b[1;33m\u001b[0m\u001b[1;33m\u001b[0m\u001b[0m\n\u001b[0m\u001b[0;32m    275\u001b[0m \u001b[1;33m\u001b[0m\u001b[0m\n\u001b[0;32m    276\u001b[0m     \u001b[1;33m@\u001b[0m\u001b[0mratelim\u001b[0m\u001b[1;33m.\u001b[0m\u001b[0mgreedy\u001b[0m\u001b[1;33m(\u001b[0m\u001b[1;36m100000\u001b[0m\u001b[1;33m,\u001b[0m \u001b[1;36m60\u001b[0m \u001b[1;33m*\u001b[0m \u001b[1;36m60\u001b[0m \u001b[1;33m*\u001b[0m \u001b[1;36m24\u001b[0m\u001b[1;33m)\u001b[0m  \u001b[1;31m# Google for Work daily limit\u001b[0m\u001b[1;33m\u001b[0m\u001b[1;33m\u001b[0m\u001b[0m\n",
      "\u001b[1;32m~\\anaconda3\\envs\\web_app\\lib\\site-packages\\geocoder\\base.py\u001b[0m in \u001b[0;36mrate_limited_get\u001b[1;34m(self, url, **kwargs)\u001b[0m\n\u001b[0;32m    508\u001b[0m     \u001b[1;32mdef\u001b[0m \u001b[0mrate_limited_get\u001b[0m\u001b[1;33m(\u001b[0m\u001b[0mself\u001b[0m\u001b[1;33m,\u001b[0m \u001b[0murl\u001b[0m\u001b[1;33m,\u001b[0m \u001b[1;33m**\u001b[0m\u001b[0mkwargs\u001b[0m\u001b[1;33m)\u001b[0m\u001b[1;33m:\u001b[0m\u001b[1;33m\u001b[0m\u001b[1;33m\u001b[0m\u001b[0m\n\u001b[0;32m    509\u001b[0m         \u001b[1;34m\"\"\" By default, simply wraps a session.get request\"\"\"\u001b[0m\u001b[1;33m\u001b[0m\u001b[1;33m\u001b[0m\u001b[0m\n\u001b[1;32m--> 510\u001b[1;33m         \u001b[1;32mreturn\u001b[0m \u001b[0mself\u001b[0m\u001b[1;33m.\u001b[0m\u001b[0msession\u001b[0m\u001b[1;33m.\u001b[0m\u001b[0mget\u001b[0m\u001b[1;33m(\u001b[0m\u001b[0murl\u001b[0m\u001b[1;33m,\u001b[0m \u001b[1;33m**\u001b[0m\u001b[0mkwargs\u001b[0m\u001b[1;33m)\u001b[0m\u001b[1;33m\u001b[0m\u001b[1;33m\u001b[0m\u001b[0m\n\u001b[0m\u001b[0;32m    511\u001b[0m \u001b[1;33m\u001b[0m\u001b[0m\n\u001b[0;32m    512\u001b[0m     \u001b[1;32mdef\u001b[0m \u001b[0m_adapt_results\u001b[0m\u001b[1;33m(\u001b[0m\u001b[0mself\u001b[0m\u001b[1;33m,\u001b[0m \u001b[0mjson_response\u001b[0m\u001b[1;33m)\u001b[0m\u001b[1;33m:\u001b[0m\u001b[1;33m\u001b[0m\u001b[1;33m\u001b[0m\u001b[0m\n",
      "\u001b[1;32m~\\anaconda3\\envs\\web_app\\lib\\site-packages\\requests\\sessions.py\u001b[0m in \u001b[0;36mget\u001b[1;34m(self, url, **kwargs)\u001b[0m\n\u001b[0;32m    553\u001b[0m \u001b[1;33m\u001b[0m\u001b[0m\n\u001b[0;32m    554\u001b[0m         \u001b[0mkwargs\u001b[0m\u001b[1;33m.\u001b[0m\u001b[0msetdefault\u001b[0m\u001b[1;33m(\u001b[0m\u001b[1;34m'allow_redirects'\u001b[0m\u001b[1;33m,\u001b[0m \u001b[1;32mTrue\u001b[0m\u001b[1;33m)\u001b[0m\u001b[1;33m\u001b[0m\u001b[1;33m\u001b[0m\u001b[0m\n\u001b[1;32m--> 555\u001b[1;33m         \u001b[1;32mreturn\u001b[0m \u001b[0mself\u001b[0m\u001b[1;33m.\u001b[0m\u001b[0mrequest\u001b[0m\u001b[1;33m(\u001b[0m\u001b[1;34m'GET'\u001b[0m\u001b[1;33m,\u001b[0m \u001b[0murl\u001b[0m\u001b[1;33m,\u001b[0m \u001b[1;33m**\u001b[0m\u001b[0mkwargs\u001b[0m\u001b[1;33m)\u001b[0m\u001b[1;33m\u001b[0m\u001b[1;33m\u001b[0m\u001b[0m\n\u001b[0m\u001b[0;32m    556\u001b[0m \u001b[1;33m\u001b[0m\u001b[0m\n\u001b[0;32m    557\u001b[0m     \u001b[1;32mdef\u001b[0m \u001b[0moptions\u001b[0m\u001b[1;33m(\u001b[0m\u001b[0mself\u001b[0m\u001b[1;33m,\u001b[0m \u001b[0murl\u001b[0m\u001b[1;33m,\u001b[0m \u001b[1;33m**\u001b[0m\u001b[0mkwargs\u001b[0m\u001b[1;33m)\u001b[0m\u001b[1;33m:\u001b[0m\u001b[1;33m\u001b[0m\u001b[1;33m\u001b[0m\u001b[0m\n",
      "\u001b[1;32m~\\anaconda3\\envs\\web_app\\lib\\site-packages\\requests\\sessions.py\u001b[0m in \u001b[0;36mrequest\u001b[1;34m(self, method, url, params, data, headers, cookies, files, auth, timeout, allow_redirects, proxies, hooks, stream, verify, cert, json)\u001b[0m\n\u001b[0;32m    540\u001b[0m         }\n\u001b[0;32m    541\u001b[0m         \u001b[0msend_kwargs\u001b[0m\u001b[1;33m.\u001b[0m\u001b[0mupdate\u001b[0m\u001b[1;33m(\u001b[0m\u001b[0msettings\u001b[0m\u001b[1;33m)\u001b[0m\u001b[1;33m\u001b[0m\u001b[1;33m\u001b[0m\u001b[0m\n\u001b[1;32m--> 542\u001b[1;33m         \u001b[0mresp\u001b[0m \u001b[1;33m=\u001b[0m \u001b[0mself\u001b[0m\u001b[1;33m.\u001b[0m\u001b[0msend\u001b[0m\u001b[1;33m(\u001b[0m\u001b[0mprep\u001b[0m\u001b[1;33m,\u001b[0m \u001b[1;33m**\u001b[0m\u001b[0msend_kwargs\u001b[0m\u001b[1;33m)\u001b[0m\u001b[1;33m\u001b[0m\u001b[1;33m\u001b[0m\u001b[0m\n\u001b[0m\u001b[0;32m    543\u001b[0m \u001b[1;33m\u001b[0m\u001b[0m\n\u001b[0;32m    544\u001b[0m         \u001b[1;32mreturn\u001b[0m \u001b[0mresp\u001b[0m\u001b[1;33m\u001b[0m\u001b[1;33m\u001b[0m\u001b[0m\n",
      "\u001b[1;32m~\\anaconda3\\envs\\web_app\\lib\\site-packages\\requests\\sessions.py\u001b[0m in \u001b[0;36msend\u001b[1;34m(self, request, **kwargs)\u001b[0m\n\u001b[0;32m    653\u001b[0m \u001b[1;33m\u001b[0m\u001b[0m\n\u001b[0;32m    654\u001b[0m         \u001b[1;31m# Send the request\u001b[0m\u001b[1;33m\u001b[0m\u001b[1;33m\u001b[0m\u001b[1;33m\u001b[0m\u001b[0m\n\u001b[1;32m--> 655\u001b[1;33m         \u001b[0mr\u001b[0m \u001b[1;33m=\u001b[0m \u001b[0madapter\u001b[0m\u001b[1;33m.\u001b[0m\u001b[0msend\u001b[0m\u001b[1;33m(\u001b[0m\u001b[0mrequest\u001b[0m\u001b[1;33m,\u001b[0m \u001b[1;33m**\u001b[0m\u001b[0mkwargs\u001b[0m\u001b[1;33m)\u001b[0m\u001b[1;33m\u001b[0m\u001b[1;33m\u001b[0m\u001b[0m\n\u001b[0m\u001b[0;32m    656\u001b[0m \u001b[1;33m\u001b[0m\u001b[0m\n\u001b[0;32m    657\u001b[0m         \u001b[1;31m# Total elapsed time of the request (approximately)\u001b[0m\u001b[1;33m\u001b[0m\u001b[1;33m\u001b[0m\u001b[1;33m\u001b[0m\u001b[0m\n",
      "\u001b[1;32m~\\anaconda3\\envs\\web_app\\lib\\site-packages\\requests\\adapters.py\u001b[0m in \u001b[0;36msend\u001b[1;34m(self, request, stream, timeout, verify, cert, proxies)\u001b[0m\n\u001b[0;32m    437\u001b[0m         \u001b[1;32mtry\u001b[0m\u001b[1;33m:\u001b[0m\u001b[1;33m\u001b[0m\u001b[1;33m\u001b[0m\u001b[0m\n\u001b[0;32m    438\u001b[0m             \u001b[1;32mif\u001b[0m \u001b[1;32mnot\u001b[0m \u001b[0mchunked\u001b[0m\u001b[1;33m:\u001b[0m\u001b[1;33m\u001b[0m\u001b[1;33m\u001b[0m\u001b[0m\n\u001b[1;32m--> 439\u001b[1;33m                 resp = conn.urlopen(\n\u001b[0m\u001b[0;32m    440\u001b[0m                     \u001b[0mmethod\u001b[0m\u001b[1;33m=\u001b[0m\u001b[0mrequest\u001b[0m\u001b[1;33m.\u001b[0m\u001b[0mmethod\u001b[0m\u001b[1;33m,\u001b[0m\u001b[1;33m\u001b[0m\u001b[1;33m\u001b[0m\u001b[0m\n\u001b[0;32m    441\u001b[0m                     \u001b[0murl\u001b[0m\u001b[1;33m=\u001b[0m\u001b[0murl\u001b[0m\u001b[1;33m,\u001b[0m\u001b[1;33m\u001b[0m\u001b[1;33m\u001b[0m\u001b[0m\n",
      "\u001b[1;32m~\\anaconda3\\envs\\web_app\\lib\\site-packages\\urllib3\\connectionpool.py\u001b[0m in \u001b[0;36murlopen\u001b[1;34m(self, method, url, body, headers, retries, redirect, assert_same_host, timeout, pool_timeout, release_conn, chunked, body_pos, **response_kw)\u001b[0m\n\u001b[0;32m    697\u001b[0m \u001b[1;33m\u001b[0m\u001b[0m\n\u001b[0;32m    698\u001b[0m             \u001b[1;31m# Make the request on the httplib connection object.\u001b[0m\u001b[1;33m\u001b[0m\u001b[1;33m\u001b[0m\u001b[1;33m\u001b[0m\u001b[0m\n\u001b[1;32m--> 699\u001b[1;33m             httplib_response = self._make_request(\n\u001b[0m\u001b[0;32m    700\u001b[0m                 \u001b[0mconn\u001b[0m\u001b[1;33m,\u001b[0m\u001b[1;33m\u001b[0m\u001b[1;33m\u001b[0m\u001b[0m\n\u001b[0;32m    701\u001b[0m                 \u001b[0mmethod\u001b[0m\u001b[1;33m,\u001b[0m\u001b[1;33m\u001b[0m\u001b[1;33m\u001b[0m\u001b[0m\n",
      "\u001b[1;32m~\\anaconda3\\envs\\web_app\\lib\\site-packages\\urllib3\\connectionpool.py\u001b[0m in \u001b[0;36m_make_request\u001b[1;34m(self, conn, method, url, timeout, chunked, **httplib_request_kw)\u001b[0m\n\u001b[0;32m    380\u001b[0m         \u001b[1;31m# Trigger any extra validation we need to do.\u001b[0m\u001b[1;33m\u001b[0m\u001b[1;33m\u001b[0m\u001b[1;33m\u001b[0m\u001b[0m\n\u001b[0;32m    381\u001b[0m         \u001b[1;32mtry\u001b[0m\u001b[1;33m:\u001b[0m\u001b[1;33m\u001b[0m\u001b[1;33m\u001b[0m\u001b[0m\n\u001b[1;32m--> 382\u001b[1;33m             \u001b[0mself\u001b[0m\u001b[1;33m.\u001b[0m\u001b[0m_validate_conn\u001b[0m\u001b[1;33m(\u001b[0m\u001b[0mconn\u001b[0m\u001b[1;33m)\u001b[0m\u001b[1;33m\u001b[0m\u001b[1;33m\u001b[0m\u001b[0m\n\u001b[0m\u001b[0;32m    383\u001b[0m         \u001b[1;32mexcept\u001b[0m \u001b[1;33m(\u001b[0m\u001b[0mSocketTimeout\u001b[0m\u001b[1;33m,\u001b[0m \u001b[0mBaseSSLError\u001b[0m\u001b[1;33m)\u001b[0m \u001b[1;32mas\u001b[0m \u001b[0me\u001b[0m\u001b[1;33m:\u001b[0m\u001b[1;33m\u001b[0m\u001b[1;33m\u001b[0m\u001b[0m\n\u001b[0;32m    384\u001b[0m             \u001b[1;31m# Py2 raises this as a BaseSSLError, Py3 raises it as socket timeout.\u001b[0m\u001b[1;33m\u001b[0m\u001b[1;33m\u001b[0m\u001b[1;33m\u001b[0m\u001b[0m\n",
      "\u001b[1;32m~\\anaconda3\\envs\\web_app\\lib\\site-packages\\urllib3\\connectionpool.py\u001b[0m in \u001b[0;36m_validate_conn\u001b[1;34m(self, conn)\u001b[0m\n\u001b[0;32m   1008\u001b[0m         \u001b[1;31m# Force connect early to allow us to validate the connection.\u001b[0m\u001b[1;33m\u001b[0m\u001b[1;33m\u001b[0m\u001b[1;33m\u001b[0m\u001b[0m\n\u001b[0;32m   1009\u001b[0m         \u001b[1;32mif\u001b[0m \u001b[1;32mnot\u001b[0m \u001b[0mgetattr\u001b[0m\u001b[1;33m(\u001b[0m\u001b[0mconn\u001b[0m\u001b[1;33m,\u001b[0m \u001b[1;34m\"sock\"\u001b[0m\u001b[1;33m,\u001b[0m \u001b[1;32mNone\u001b[0m\u001b[1;33m)\u001b[0m\u001b[1;33m:\u001b[0m  \u001b[1;31m# AppEngine might not have  `.sock`\u001b[0m\u001b[1;33m\u001b[0m\u001b[1;33m\u001b[0m\u001b[0m\n\u001b[1;32m-> 1010\u001b[1;33m             \u001b[0mconn\u001b[0m\u001b[1;33m.\u001b[0m\u001b[0mconnect\u001b[0m\u001b[1;33m(\u001b[0m\u001b[1;33m)\u001b[0m\u001b[1;33m\u001b[0m\u001b[1;33m\u001b[0m\u001b[0m\n\u001b[0m\u001b[0;32m   1011\u001b[0m \u001b[1;33m\u001b[0m\u001b[0m\n\u001b[0;32m   1012\u001b[0m         \u001b[1;32mif\u001b[0m \u001b[1;32mnot\u001b[0m \u001b[0mconn\u001b[0m\u001b[1;33m.\u001b[0m\u001b[0mis_verified\u001b[0m\u001b[1;33m:\u001b[0m\u001b[1;33m\u001b[0m\u001b[1;33m\u001b[0m\u001b[0m\n",
      "\u001b[1;32m~\\anaconda3\\envs\\web_app\\lib\\site-packages\\urllib3\\connection.py\u001b[0m in \u001b[0;36mconnect\u001b[1;34m(self)\u001b[0m\n\u001b[0;32m    409\u001b[0m             \u001b[0mcontext\u001b[0m\u001b[1;33m.\u001b[0m\u001b[0mload_default_certs\u001b[0m\u001b[1;33m(\u001b[0m\u001b[1;33m)\u001b[0m\u001b[1;33m\u001b[0m\u001b[1;33m\u001b[0m\u001b[0m\n\u001b[0;32m    410\u001b[0m \u001b[1;33m\u001b[0m\u001b[0m\n\u001b[1;32m--> 411\u001b[1;33m         self.sock = ssl_wrap_socket(\n\u001b[0m\u001b[0;32m    412\u001b[0m             \u001b[0msock\u001b[0m\u001b[1;33m=\u001b[0m\u001b[0mconn\u001b[0m\u001b[1;33m,\u001b[0m\u001b[1;33m\u001b[0m\u001b[1;33m\u001b[0m\u001b[0m\n\u001b[0;32m    413\u001b[0m             \u001b[0mkeyfile\u001b[0m\u001b[1;33m=\u001b[0m\u001b[0mself\u001b[0m\u001b[1;33m.\u001b[0m\u001b[0mkey_file\u001b[0m\u001b[1;33m,\u001b[0m\u001b[1;33m\u001b[0m\u001b[1;33m\u001b[0m\u001b[0m\n",
      "\u001b[1;32m~\\anaconda3\\envs\\web_app\\lib\\site-packages\\urllib3\\util\\ssl_.py\u001b[0m in \u001b[0;36mssl_wrap_socket\u001b[1;34m(sock, keyfile, certfile, cert_reqs, ca_certs, server_hostname, ssl_version, ciphers, ssl_context, ca_cert_dir, key_password, ca_cert_data, tls_in_tls)\u001b[0m\n\u001b[0;32m    426\u001b[0m \u001b[1;33m\u001b[0m\u001b[0m\n\u001b[0;32m    427\u001b[0m     \u001b[1;32mif\u001b[0m \u001b[0msend_sni\u001b[0m\u001b[1;33m:\u001b[0m\u001b[1;33m\u001b[0m\u001b[1;33m\u001b[0m\u001b[0m\n\u001b[1;32m--> 428\u001b[1;33m         ssl_sock = _ssl_wrap_socket_impl(\n\u001b[0m\u001b[0;32m    429\u001b[0m             \u001b[0msock\u001b[0m\u001b[1;33m,\u001b[0m \u001b[0mcontext\u001b[0m\u001b[1;33m,\u001b[0m \u001b[0mtls_in_tls\u001b[0m\u001b[1;33m,\u001b[0m \u001b[0mserver_hostname\u001b[0m\u001b[1;33m=\u001b[0m\u001b[0mserver_hostname\u001b[0m\u001b[1;33m\u001b[0m\u001b[1;33m\u001b[0m\u001b[0m\n\u001b[0;32m    430\u001b[0m         )\n",
      "\u001b[1;32m~\\anaconda3\\envs\\web_app\\lib\\site-packages\\urllib3\\util\\ssl_.py\u001b[0m in \u001b[0;36m_ssl_wrap_socket_impl\u001b[1;34m(sock, ssl_context, tls_in_tls, server_hostname)\u001b[0m\n\u001b[0;32m    470\u001b[0m \u001b[1;33m\u001b[0m\u001b[0m\n\u001b[0;32m    471\u001b[0m     \u001b[1;32mif\u001b[0m \u001b[0mserver_hostname\u001b[0m\u001b[1;33m:\u001b[0m\u001b[1;33m\u001b[0m\u001b[1;33m\u001b[0m\u001b[0m\n\u001b[1;32m--> 472\u001b[1;33m         \u001b[1;32mreturn\u001b[0m \u001b[0mssl_context\u001b[0m\u001b[1;33m.\u001b[0m\u001b[0mwrap_socket\u001b[0m\u001b[1;33m(\u001b[0m\u001b[0msock\u001b[0m\u001b[1;33m,\u001b[0m \u001b[0mserver_hostname\u001b[0m\u001b[1;33m=\u001b[0m\u001b[0mserver_hostname\u001b[0m\u001b[1;33m)\u001b[0m\u001b[1;33m\u001b[0m\u001b[1;33m\u001b[0m\u001b[0m\n\u001b[0m\u001b[0;32m    473\u001b[0m     \u001b[1;32melse\u001b[0m\u001b[1;33m:\u001b[0m\u001b[1;33m\u001b[0m\u001b[1;33m\u001b[0m\u001b[0m\n\u001b[0;32m    474\u001b[0m         \u001b[1;32mreturn\u001b[0m \u001b[0mssl_context\u001b[0m\u001b[1;33m.\u001b[0m\u001b[0mwrap_socket\u001b[0m\u001b[1;33m(\u001b[0m\u001b[0msock\u001b[0m\u001b[1;33m)\u001b[0m\u001b[1;33m\u001b[0m\u001b[1;33m\u001b[0m\u001b[0m\n",
      "\u001b[1;32m~\\anaconda3\\envs\\web_app\\lib\\ssl.py\u001b[0m in \u001b[0;36mwrap_socket\u001b[1;34m(self, sock, server_side, do_handshake_on_connect, suppress_ragged_eofs, server_hostname, session)\u001b[0m\n\u001b[0;32m    498\u001b[0m         \u001b[1;31m# SSLSocket class handles server_hostname encoding before it calls\u001b[0m\u001b[1;33m\u001b[0m\u001b[1;33m\u001b[0m\u001b[1;33m\u001b[0m\u001b[0m\n\u001b[0;32m    499\u001b[0m         \u001b[1;31m# ctx._wrap_socket()\u001b[0m\u001b[1;33m\u001b[0m\u001b[1;33m\u001b[0m\u001b[1;33m\u001b[0m\u001b[0m\n\u001b[1;32m--> 500\u001b[1;33m         return self.sslsocket_class._create(\n\u001b[0m\u001b[0;32m    501\u001b[0m             \u001b[0msock\u001b[0m\u001b[1;33m=\u001b[0m\u001b[0msock\u001b[0m\u001b[1;33m,\u001b[0m\u001b[1;33m\u001b[0m\u001b[1;33m\u001b[0m\u001b[0m\n\u001b[0;32m    502\u001b[0m             \u001b[0mserver_side\u001b[0m\u001b[1;33m=\u001b[0m\u001b[0mserver_side\u001b[0m\u001b[1;33m,\u001b[0m\u001b[1;33m\u001b[0m\u001b[1;33m\u001b[0m\u001b[0m\n",
      "\u001b[1;32m~\\anaconda3\\envs\\web_app\\lib\\ssl.py\u001b[0m in \u001b[0;36m_create\u001b[1;34m(cls, sock, server_side, do_handshake_on_connect, suppress_ragged_eofs, server_hostname, context, session)\u001b[0m\n\u001b[0;32m   1038\u001b[0m                         \u001b[1;31m# non-blocking\u001b[0m\u001b[1;33m\u001b[0m\u001b[1;33m\u001b[0m\u001b[1;33m\u001b[0m\u001b[0m\n\u001b[0;32m   1039\u001b[0m                         \u001b[1;32mraise\u001b[0m \u001b[0mValueError\u001b[0m\u001b[1;33m(\u001b[0m\u001b[1;34m\"do_handshake_on_connect should not be specified for non-blocking sockets\"\u001b[0m\u001b[1;33m)\u001b[0m\u001b[1;33m\u001b[0m\u001b[1;33m\u001b[0m\u001b[0m\n\u001b[1;32m-> 1040\u001b[1;33m                     \u001b[0mself\u001b[0m\u001b[1;33m.\u001b[0m\u001b[0mdo_handshake\u001b[0m\u001b[1;33m(\u001b[0m\u001b[1;33m)\u001b[0m\u001b[1;33m\u001b[0m\u001b[1;33m\u001b[0m\u001b[0m\n\u001b[0m\u001b[0;32m   1041\u001b[0m             \u001b[1;32mexcept\u001b[0m \u001b[1;33m(\u001b[0m\u001b[0mOSError\u001b[0m\u001b[1;33m,\u001b[0m \u001b[0mValueError\u001b[0m\u001b[1;33m)\u001b[0m\u001b[1;33m:\u001b[0m\u001b[1;33m\u001b[0m\u001b[1;33m\u001b[0m\u001b[0m\n\u001b[0;32m   1042\u001b[0m                 \u001b[0mself\u001b[0m\u001b[1;33m.\u001b[0m\u001b[0mclose\u001b[0m\u001b[1;33m(\u001b[0m\u001b[1;33m)\u001b[0m\u001b[1;33m\u001b[0m\u001b[1;33m\u001b[0m\u001b[0m\n",
      "\u001b[1;32m~\\anaconda3\\envs\\web_app\\lib\\ssl.py\u001b[0m in \u001b[0;36mdo_handshake\u001b[1;34m(self, block)\u001b[0m\n\u001b[0;32m   1307\u001b[0m             \u001b[1;32mif\u001b[0m \u001b[0mtimeout\u001b[0m \u001b[1;33m==\u001b[0m \u001b[1;36m0.0\u001b[0m \u001b[1;32mand\u001b[0m \u001b[0mblock\u001b[0m\u001b[1;33m:\u001b[0m\u001b[1;33m\u001b[0m\u001b[1;33m\u001b[0m\u001b[0m\n\u001b[0;32m   1308\u001b[0m                 \u001b[0mself\u001b[0m\u001b[1;33m.\u001b[0m\u001b[0msettimeout\u001b[0m\u001b[1;33m(\u001b[0m\u001b[1;32mNone\u001b[0m\u001b[1;33m)\u001b[0m\u001b[1;33m\u001b[0m\u001b[1;33m\u001b[0m\u001b[0m\n\u001b[1;32m-> 1309\u001b[1;33m             \u001b[0mself\u001b[0m\u001b[1;33m.\u001b[0m\u001b[0m_sslobj\u001b[0m\u001b[1;33m.\u001b[0m\u001b[0mdo_handshake\u001b[0m\u001b[1;33m(\u001b[0m\u001b[1;33m)\u001b[0m\u001b[1;33m\u001b[0m\u001b[1;33m\u001b[0m\u001b[0m\n\u001b[0m\u001b[0;32m   1310\u001b[0m         \u001b[1;32mfinally\u001b[0m\u001b[1;33m:\u001b[0m\u001b[1;33m\u001b[0m\u001b[1;33m\u001b[0m\u001b[0m\n\u001b[0;32m   1311\u001b[0m             \u001b[0mself\u001b[0m\u001b[1;33m.\u001b[0m\u001b[0msettimeout\u001b[0m\u001b[1;33m(\u001b[0m\u001b[0mtimeout\u001b[0m\u001b[1;33m)\u001b[0m\u001b[1;33m\u001b[0m\u001b[1;33m\u001b[0m\u001b[0m\n",
      "\u001b[1;31mKeyboardInterrupt\u001b[0m: "
     ]
    }
   ],
   "source": [
    "def geoadress(shop_address):\n",
    "    latlon = []\n",
    "    for address in shop_address:\n",
    "        geo = geocoder.google(address)\n",
    "        latlon.append(geo)\n",
    "        \n",
    "    return latlon\n",
    "\n",
    "p = geoaddress(shop_address)\n",
    "print(p.latlng)"
   ]
  },
  {
   "cell_type": "code",
   "execution_count": 25,
   "id": "8192be39-0167-4ffb-b553-b7e08da9e38b",
   "metadata": {},
   "outputs": [],
   "source": [
    "from bs4 import BeautifulSoup\n",
    "import time\n",
    "#from tqdm import tqdm\n",
    "\n",
    "\n",
    "def get_lat_lon_from_address(shop_address):\n",
    "    \"\"\"\n",
    "    address_lにlistの形で住所を入れてあげると、latlonsという入れ子上のリストで緯度経度のリストを返す関数。\n",
    "    >>>>get_lat_lon_from_address(['東京都文京区本郷7-3-1','東京都文京区湯島３丁目３０−１'])\n",
    "    [['35.712056', '139.762775'], ['35.707771', '139.768205']]\n",
    "    \"\"\"\n",
    "    url = 'http://www.geocoding.jp/api/'\n",
    "    latlons = []\n",
    "    for address in shop_address:\n",
    "        payload = {\"v\": 1.1, 'q': address}\n",
    "        r = requests.get(url, params=payload)\n",
    "        ret = BeautifulSoup(r.content,'lxml')\n",
    "        if ret.find('error'):\n",
    "            #raise ValueError(f\"Invalid address submitted. {address}\")\n",
    "            continue\n",
    "        else:\n",
    "            lat = ret.find('lat').string\n",
    "            lon = ret.find('lng').string\n",
    "            latlons.append([lat,lon])\n",
    "            time.sleep(10)\n",
    "    return latlons"
   ]
  },
  {
   "cell_type": "code",
   "execution_count": 37,
   "id": "dfe480df-f544-4c3d-b2fe-2fb765193fb6",
   "metadata": {},
   "outputs": [
    {
     "name": "stdout",
     "output_type": "stream",
     "text": [
      "[['35.655584', '139.652714'], ['35.725843', '139.71405'], ['35.693661', '139.619733'], ['35.747159', '139.719056']]\n"
     ]
    }
   ],
   "source": [
    "p = get_lat_lon_from_address(shop_address)\n",
    "print(p)"
   ]
  },
  {
   "cell_type": "code",
   "execution_count": 41,
   "id": "ed7ecf77-fea3-4010-bd1a-bf4e4e720092",
   "metadata": {},
   "outputs": [],
   "source": [
    "df_p = pd.DataFrame(p)"
   ]
  },
  {
   "cell_type": "code",
   "execution_count": 42,
   "id": "13fff893-05b7-434f-9cb2-48d9f233b22d",
   "metadata": {
    "tags": []
   },
   "outputs": [
    {
     "ename": "TypeError",
     "evalue": "list indices must be integers or slices, not str",
     "output_type": "error",
     "traceback": [
      "\u001b[1;31m---------------------------------------------------------------------------\u001b[0m",
      "\u001b[1;31mTypeError\u001b[0m                                 Traceback (most recent call last)",
      "\u001b[1;32m<ipython-input-42-4479b85cfb15>\u001b[0m in \u001b[0;36m<module>\u001b[1;34m\u001b[0m\n\u001b[0;32m     23\u001b[0m     \u001b[1;32mreturn\u001b[0m \u001b[0mm\u001b[0m\u001b[1;33m\u001b[0m\u001b[1;33m\u001b[0m\u001b[0m\n\u001b[0;32m     24\u001b[0m \u001b[1;33m\u001b[0m\u001b[0m\n\u001b[1;32m---> 25\u001b[1;33m \u001b[0mvisualize_locations\u001b[0m\u001b[1;33m(\u001b[0m\u001b[0mp\u001b[0m\u001b[1;33m)\u001b[0m\u001b[1;33m\u001b[0m\u001b[1;33m\u001b[0m\u001b[0m\n\u001b[0m",
      "\u001b[1;32m<ipython-input-42-4479b85cfb15>\u001b[0m in \u001b[0;36mvisualize_locations\u001b[1;34m(df, zoom)\u001b[0m\n\u001b[0;32m     19\u001b[0m     \u001b[1;31m# データフレームの全ての行のマーカーを作成する。\u001b[0m\u001b[1;33m\u001b[0m\u001b[1;33m\u001b[0m\u001b[1;33m\u001b[0m\u001b[0m\n\u001b[0;32m     20\u001b[0m     \u001b[1;32mfor\u001b[0m \u001b[0mi\u001b[0m \u001b[1;32min\u001b[0m \u001b[0mrange\u001b[0m\u001b[1;33m(\u001b[0m\u001b[1;36m0\u001b[0m\u001b[1;33m,\u001b[0m\u001b[0mlen\u001b[0m\u001b[1;33m(\u001b[0m\u001b[0mdf\u001b[0m\u001b[1;33m)\u001b[0m\u001b[1;33m)\u001b[0m\u001b[1;33m:\u001b[0m\u001b[1;33m\u001b[0m\u001b[1;33m\u001b[0m\u001b[0m\n\u001b[1;32m---> 21\u001b[1;33m         \u001b[0mfolium\u001b[0m\u001b[1;33m.\u001b[0m\u001b[0mMarker\u001b[0m\u001b[1;33m(\u001b[0m\u001b[0mlocation\u001b[0m\u001b[1;33m=\u001b[0m\u001b[1;33m[\u001b[0m\u001b[0mdf\u001b[0m\u001b[1;33m[\u001b[0m\u001b[1;34m\"latitude\"\u001b[0m\u001b[1;33m]\u001b[0m\u001b[1;33m[\u001b[0m\u001b[0mi\u001b[0m\u001b[1;33m]\u001b[0m\u001b[1;33m,\u001b[0m\u001b[0mdf\u001b[0m\u001b[1;33m[\u001b[0m\u001b[1;34m\"longitude\"\u001b[0m\u001b[1;33m]\u001b[0m\u001b[1;33m[\u001b[0m\u001b[0mi\u001b[0m\u001b[1;33m]\u001b[0m\u001b[1;33m]\u001b[0m\u001b[1;33m)\u001b[0m\u001b[1;33m.\u001b[0m\u001b[0madd_to\u001b[0m\u001b[1;33m(\u001b[0m\u001b[0mm\u001b[0m\u001b[1;33m)\u001b[0m\u001b[1;33m\u001b[0m\u001b[1;33m\u001b[0m\u001b[0m\n\u001b[0m\u001b[0;32m     22\u001b[0m \u001b[1;33m\u001b[0m\u001b[0m\n\u001b[0;32m     23\u001b[0m     \u001b[1;32mreturn\u001b[0m \u001b[0mm\u001b[0m\u001b[1;33m\u001b[0m\u001b[1;33m\u001b[0m\u001b[0m\n",
      "\u001b[1;31mTypeError\u001b[0m: list indices must be integers or slices, not str"
     ]
    }
   ],
   "source": [
    "import folium\n",
    "import pandas as pd\n",
    "\n",
    "# このCSVには、県庁所在地の緯度・経度がlatitudeカラムとlongitudeカラムに入っている。\n",
    "#df_prefecture = pd.read_csv(\"../data/prefectural_capital_locations.csv\")\n",
    "\n",
    "def visualize_locations(df,  zoom=4):\n",
    "    \"\"\"日本を拡大した地図に、pandasデータフレームのlatitudeおよびlongitudeカラムをプロットする。\n",
    "    \"\"\"\n",
    "        \t\n",
    "    # 図の大きさを指定する。\n",
    "    f = folium.Figure(width=1000, height=500)\n",
    "\n",
    "    # 初期表示の中心の座標を指定して地図を作成する。\n",
    "    center_lat=34.686567\n",
    "    center_lon=135.52000\n",
    "    m = folium.Map([center_lat,center_lon], zoom_start=zoom).add_to(f)\n",
    "        \n",
    "    # データフレームの全ての行のマーカーを作成する。\n",
    "    for i in range(0,len(df)):\n",
    "        folium.Marker(location=[df[\"latitude\"][i],df[\"longitude\"][i]]).add_to(m)\n",
    "        \n",
    "    return m\n",
    "    \n",
    "visualize_locations(p)"
   ]
  },
  {
   "cell_type": "code",
   "execution_count": null,
   "id": "75d429ae-a7a5-4a44-b2e7-5f645e57ef75",
   "metadata": {},
   "outputs": [],
   "source": []
  },
  {
   "cell_type": "code",
   "execution_count": null,
   "id": "90aa6938-9b6e-4b41-9e87-8cdd50fe461b",
   "metadata": {},
   "outputs": [],
   "source": []
  }
 ],
 "metadata": {
  "kernelspec": {
   "display_name": "Python 3",
   "language": "python",
   "name": "python3"
  },
  "language_info": {
   "codemirror_mode": {
    "name": "ipython",
    "version": 3
   },
   "file_extension": ".py",
   "mimetype": "text/x-python",
   "name": "python",
   "nbconvert_exporter": "python",
   "pygments_lexer": "ipython3",
   "version": "3.8.10"
  }
 },
 "nbformat": 4,
 "nbformat_minor": 5
}
